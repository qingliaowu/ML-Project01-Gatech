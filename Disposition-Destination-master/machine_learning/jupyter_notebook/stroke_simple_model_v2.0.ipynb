{
 "cells": [
  {
   "cell_type": "code",
   "execution_count": 22,
   "metadata": {
    "collapsed": true
   },
   "outputs": [],
   "source": [
    "import pandas as pd"
   ]
  },
  {
   "cell_type": "code",
   "execution_count": 23,
   "metadata": {
    "collapsed": true
   },
   "outputs": [],
   "source": [
    "stroke_data = pd.read_pickle(\"stroke_data.pkl\")#Joined Admission and Stroke_code tables"
   ]
  },
  {
   "cell_type": "code",
   "execution_count": 24,
   "metadata": {
    "collapsed": false
   },
   "outputs": [
    {
     "data": {
      "text/html": [
       "<div>\n",
       "<table border=\"1\" class=\"dataframe\">\n",
       "  <thead>\n",
       "    <tr style=\"text-align: right;\">\n",
       "      <th></th>\n",
       "      <th>ROW_ID_x</th>\n",
       "      <th>SUBJECT_ID</th>\n",
       "      <th>HADM_ID</th>\n",
       "      <th>ADMITTIME</th>\n",
       "      <th>DISCHTIME</th>\n",
       "      <th>DEATHTIME</th>\n",
       "      <th>ADMISSION_TYPE</th>\n",
       "      <th>ADMISSION_LOCATION</th>\n",
       "      <th>DISCHARGE_LOCATION</th>\n",
       "      <th>INSURANCE</th>\n",
       "      <th>...</th>\n",
       "      <th>ETHNICITY</th>\n",
       "      <th>EDREGTIME</th>\n",
       "      <th>EDOUTTIME</th>\n",
       "      <th>DIAGNOSIS</th>\n",
       "      <th>HOSPITAL_EXPIRE_FLAG</th>\n",
       "      <th>HAS_CHARTEVENTS_DATA</th>\n",
       "      <th>is_stroke</th>\n",
       "      <th>ROW_ID_y</th>\n",
       "      <th>SEQ_NUM</th>\n",
       "      <th>ICD9_CODE</th>\n",
       "    </tr>\n",
       "  </thead>\n",
       "  <tbody>\n",
       "    <tr>\n",
       "      <th>0</th>\n",
       "      <td>190</td>\n",
       "      <td>141</td>\n",
       "      <td>168006</td>\n",
       "      <td>2140-11-06 11:07:00</td>\n",
       "      <td>2140-11-09 20:36:00</td>\n",
       "      <td>2140-11-09 20:36:00</td>\n",
       "      <td>EMERGENCY</td>\n",
       "      <td>EMERGENCY ROOM ADMIT</td>\n",
       "      <td>DEAD/EXPIRED</td>\n",
       "      <td>Medicare</td>\n",
       "      <td>...</td>\n",
       "      <td>OTHER</td>\n",
       "      <td>2140-11-06 07:17:00</td>\n",
       "      <td>2140-11-06 12:07:00</td>\n",
       "      <td>DRA, SAH</td>\n",
       "      <td>1</td>\n",
       "      <td>1</td>\n",
       "      <td>0</td>\n",
       "      <td>1784</td>\n",
       "      <td>2.0</td>\n",
       "      <td>43491</td>\n",
       "    </tr>\n",
       "    <tr>\n",
       "      <th>1</th>\n",
       "      <td>394</td>\n",
       "      <td>308</td>\n",
       "      <td>166606</td>\n",
       "      <td>2135-09-02 23:07:00</td>\n",
       "      <td>2135-10-20 11:53:00</td>\n",
       "      <td>NaN</td>\n",
       "      <td>EMERGENCY</td>\n",
       "      <td>EMERGENCY ROOM ADMIT</td>\n",
       "      <td>DISC-TRAN CANCER/CHLDRN H</td>\n",
       "      <td>Medicaid</td>\n",
       "      <td>...</td>\n",
       "      <td>UNKNOWN/NOT SPECIFIED</td>\n",
       "      <td>2135-09-02 13:18:00</td>\n",
       "      <td>2135-09-03 12:00:00</td>\n",
       "      <td>DILANTIN TOXICITY-MENTAL STATUS CHANGES</td>\n",
       "      <td>0</td>\n",
       "      <td>1</td>\n",
       "      <td>0</td>\n",
       "      <td>3690</td>\n",
       "      <td>8.0</td>\n",
       "      <td>43491</td>\n",
       "    </tr>\n",
       "    <tr>\n",
       "      <th>2</th>\n",
       "      <td>398</td>\n",
       "      <td>313</td>\n",
       "      <td>199765</td>\n",
       "      <td>2139-07-26 16:43:00</td>\n",
       "      <td>2139-08-09 15:30:00</td>\n",
       "      <td>NaN</td>\n",
       "      <td>EMERGENCY</td>\n",
       "      <td>EMERGENCY ROOM ADMIT</td>\n",
       "      <td>LONG TERM CARE HOSPITAL</td>\n",
       "      <td>Medicare</td>\n",
       "      <td>...</td>\n",
       "      <td>UNKNOWN/NOT SPECIFIED</td>\n",
       "      <td>2139-07-26 15:42:00</td>\n",
       "      <td>2139-07-26 21:08:00</td>\n",
       "      <td>C7 FRACTURE</td>\n",
       "      <td>0</td>\n",
       "      <td>1</td>\n",
       "      <td>0</td>\n",
       "      <td>3710</td>\n",
       "      <td>3.0</td>\n",
       "      <td>43491</td>\n",
       "    </tr>\n",
       "    <tr>\n",
       "      <th>3</th>\n",
       "      <td>421</td>\n",
       "      <td>330</td>\n",
       "      <td>197569</td>\n",
       "      <td>2133-02-27 12:30:00</td>\n",
       "      <td>2133-03-24 17:00:00</td>\n",
       "      <td>NaN</td>\n",
       "      <td>ELECTIVE</td>\n",
       "      <td>PHYS REFERRAL/NORMAL DELI</td>\n",
       "      <td>SNF</td>\n",
       "      <td>Private</td>\n",
       "      <td>...</td>\n",
       "      <td>WHITE</td>\n",
       "      <td>NaN</td>\n",
       "      <td>NaN</td>\n",
       "      <td>LEFT CAROTID STENOSIS/SDA</td>\n",
       "      <td>0</td>\n",
       "      <td>1</td>\n",
       "      <td>0</td>\n",
       "      <td>3895</td>\n",
       "      <td>6.0</td>\n",
       "      <td>43411</td>\n",
       "    </tr>\n",
       "    <tr>\n",
       "      <th>4</th>\n",
       "      <td>445</td>\n",
       "      <td>352</td>\n",
       "      <td>121050</td>\n",
       "      <td>2144-05-17 15:47:00</td>\n",
       "      <td>2144-05-21 11:15:00</td>\n",
       "      <td>NaN</td>\n",
       "      <td>EMERGENCY</td>\n",
       "      <td>EMERGENCY ROOM ADMIT</td>\n",
       "      <td>SNF</td>\n",
       "      <td>Medicare</td>\n",
       "      <td>...</td>\n",
       "      <td>WHITE</td>\n",
       "      <td>2144-05-17 10:54:00</td>\n",
       "      <td>2144-05-17 16:03:00</td>\n",
       "      <td>STROKE;TELEMETRY</td>\n",
       "      <td>0</td>\n",
       "      <td>1</td>\n",
       "      <td>1</td>\n",
       "      <td>4101</td>\n",
       "      <td>1.0</td>\n",
       "      <td>43411</td>\n",
       "    </tr>\n",
       "  </tbody>\n",
       "</table>\n",
       "<p>5 rows × 23 columns</p>\n",
       "</div>"
      ],
      "text/plain": [
       "   ROW_ID_x  SUBJECT_ID  HADM_ID            ADMITTIME            DISCHTIME  \\\n",
       "0       190         141   168006  2140-11-06 11:07:00  2140-11-09 20:36:00   \n",
       "1       394         308   166606  2135-09-02 23:07:00  2135-10-20 11:53:00   \n",
       "2       398         313   199765  2139-07-26 16:43:00  2139-08-09 15:30:00   \n",
       "3       421         330   197569  2133-02-27 12:30:00  2133-03-24 17:00:00   \n",
       "4       445         352   121050  2144-05-17 15:47:00  2144-05-21 11:15:00   \n",
       "\n",
       "             DEATHTIME ADMISSION_TYPE         ADMISSION_LOCATION  \\\n",
       "0  2140-11-09 20:36:00      EMERGENCY       EMERGENCY ROOM ADMIT   \n",
       "1                  NaN      EMERGENCY       EMERGENCY ROOM ADMIT   \n",
       "2                  NaN      EMERGENCY       EMERGENCY ROOM ADMIT   \n",
       "3                  NaN       ELECTIVE  PHYS REFERRAL/NORMAL DELI   \n",
       "4                  NaN      EMERGENCY       EMERGENCY ROOM ADMIT   \n",
       "\n",
       "          DISCHARGE_LOCATION INSURANCE    ...                  ETHNICITY  \\\n",
       "0               DEAD/EXPIRED  Medicare    ...                      OTHER   \n",
       "1  DISC-TRAN CANCER/CHLDRN H  Medicaid    ...      UNKNOWN/NOT SPECIFIED   \n",
       "2    LONG TERM CARE HOSPITAL  Medicare    ...      UNKNOWN/NOT SPECIFIED   \n",
       "3                        SNF   Private    ...                      WHITE   \n",
       "4                        SNF  Medicare    ...                      WHITE   \n",
       "\n",
       "             EDREGTIME            EDOUTTIME  \\\n",
       "0  2140-11-06 07:17:00  2140-11-06 12:07:00   \n",
       "1  2135-09-02 13:18:00  2135-09-03 12:00:00   \n",
       "2  2139-07-26 15:42:00  2139-07-26 21:08:00   \n",
       "3                  NaN                  NaN   \n",
       "4  2144-05-17 10:54:00  2144-05-17 16:03:00   \n",
       "\n",
       "                                 DIAGNOSIS HOSPITAL_EXPIRE_FLAG  \\\n",
       "0                                 DRA, SAH                    1   \n",
       "1  DILANTIN TOXICITY-MENTAL STATUS CHANGES                    0   \n",
       "2                              C7 FRACTURE                    0   \n",
       "3                LEFT CAROTID STENOSIS/SDA                    0   \n",
       "4                         STROKE;TELEMETRY                    0   \n",
       "\n",
       "  HAS_CHARTEVENTS_DATA is_stroke  ROW_ID_y  SEQ_NUM  ICD9_CODE  \n",
       "0                    1         0      1784      2.0      43491  \n",
       "1                    1         0      3690      8.0      43491  \n",
       "2                    1         0      3710      3.0      43491  \n",
       "3                    1         0      3895      6.0      43411  \n",
       "4                    1         1      4101      1.0      43411  \n",
       "\n",
       "[5 rows x 23 columns]"
      ]
     },
     "execution_count": 24,
     "metadata": {},
     "output_type": "execute_result"
    }
   ],
   "source": [
    "stroke_data.head()"
   ]
  },
  {
   "cell_type": "code",
   "execution_count": 25,
   "metadata": {
    "collapsed": false
   },
   "outputs": [],
   "source": [
    "patients = pd.read_csv(\"patients.csv\")"
   ]
  },
  {
   "cell_type": "code",
   "execution_count": 26,
   "metadata": {
    "collapsed": false
   },
   "outputs": [
    {
     "data": {
      "text/html": [
       "<div>\n",
       "<table border=\"1\" class=\"dataframe\">\n",
       "  <thead>\n",
       "    <tr style=\"text-align: right;\">\n",
       "      <th></th>\n",
       "      <th>ROW_ID</th>\n",
       "      <th>SUBJECT_ID</th>\n",
       "      <th>GENDER</th>\n",
       "      <th>DOB</th>\n",
       "      <th>DOD</th>\n",
       "      <th>DOD_HOSP</th>\n",
       "      <th>DOD_SSN</th>\n",
       "      <th>EXPIRE_FLAG</th>\n",
       "    </tr>\n",
       "  </thead>\n",
       "  <tbody>\n",
       "    <tr>\n",
       "      <th>0</th>\n",
       "      <td>234</td>\n",
       "      <td>249</td>\n",
       "      <td>F</td>\n",
       "      <td>2075-03-13 00:00:00</td>\n",
       "      <td>NaN</td>\n",
       "      <td>NaN</td>\n",
       "      <td>NaN</td>\n",
       "      <td>0</td>\n",
       "    </tr>\n",
       "    <tr>\n",
       "      <th>1</th>\n",
       "      <td>235</td>\n",
       "      <td>250</td>\n",
       "      <td>F</td>\n",
       "      <td>2164-12-27 00:00:00</td>\n",
       "      <td>2188-11-22 00:00:00</td>\n",
       "      <td>2188-11-22 00:00:00</td>\n",
       "      <td>NaN</td>\n",
       "      <td>1</td>\n",
       "    </tr>\n",
       "    <tr>\n",
       "      <th>2</th>\n",
       "      <td>236</td>\n",
       "      <td>251</td>\n",
       "      <td>M</td>\n",
       "      <td>2090-03-15 00:00:00</td>\n",
       "      <td>NaN</td>\n",
       "      <td>NaN</td>\n",
       "      <td>NaN</td>\n",
       "      <td>0</td>\n",
       "    </tr>\n",
       "    <tr>\n",
       "      <th>3</th>\n",
       "      <td>237</td>\n",
       "      <td>252</td>\n",
       "      <td>M</td>\n",
       "      <td>2078-03-06 00:00:00</td>\n",
       "      <td>NaN</td>\n",
       "      <td>NaN</td>\n",
       "      <td>NaN</td>\n",
       "      <td>0</td>\n",
       "    </tr>\n",
       "    <tr>\n",
       "      <th>4</th>\n",
       "      <td>238</td>\n",
       "      <td>253</td>\n",
       "      <td>F</td>\n",
       "      <td>2089-11-26 00:00:00</td>\n",
       "      <td>NaN</td>\n",
       "      <td>NaN</td>\n",
       "      <td>NaN</td>\n",
       "      <td>0</td>\n",
       "    </tr>\n",
       "  </tbody>\n",
       "</table>\n",
       "</div>"
      ],
      "text/plain": [
       "   ROW_ID  SUBJECT_ID GENDER                  DOB                  DOD  \\\n",
       "0     234         249      F  2075-03-13 00:00:00                  NaN   \n",
       "1     235         250      F  2164-12-27 00:00:00  2188-11-22 00:00:00   \n",
       "2     236         251      M  2090-03-15 00:00:00                  NaN   \n",
       "3     237         252      M  2078-03-06 00:00:00                  NaN   \n",
       "4     238         253      F  2089-11-26 00:00:00                  NaN   \n",
       "\n",
       "              DOD_HOSP DOD_SSN  EXPIRE_FLAG  \n",
       "0                  NaN     NaN            0  \n",
       "1  2188-11-22 00:00:00     NaN            1  \n",
       "2                  NaN     NaN            0  \n",
       "3                  NaN     NaN            0  \n",
       "4                  NaN     NaN            0  "
      ]
     },
     "execution_count": 26,
     "metadata": {},
     "output_type": "execute_result"
    }
   ],
   "source": [
    "patients.head()"
   ]
  },
  {
   "cell_type": "code",
   "execution_count": 27,
   "metadata": {
    "collapsed": true
   },
   "outputs": [],
   "source": [
    "stroke_patients = pd.merge(stroke_data, patients, on = ['SUBJECT_ID'], how = 'inner')#joined "
   ]
  },
  {
   "cell_type": "code",
   "execution_count": 28,
   "metadata": {
    "collapsed": true
   },
   "outputs": [],
   "source": [
    "stroke_patients.to_pickle(\"stroke_patients.pkl\")"
   ]
  },
  {
   "cell_type": "code",
   "execution_count": 29,
   "metadata": {
    "collapsed": false
   },
   "outputs": [
    {
     "data": {
      "text/html": [
       "<div>\n",
       "<table border=\"1\" class=\"dataframe\">\n",
       "  <thead>\n",
       "    <tr style=\"text-align: right;\">\n",
       "      <th></th>\n",
       "      <th>ROW_ID_x</th>\n",
       "      <th>SUBJECT_ID</th>\n",
       "      <th>HADM_ID</th>\n",
       "      <th>HOSPITAL_EXPIRE_FLAG</th>\n",
       "      <th>HAS_CHARTEVENTS_DATA</th>\n",
       "      <th>is_stroke</th>\n",
       "      <th>ROW_ID_y</th>\n",
       "      <th>SEQ_NUM</th>\n",
       "      <th>ROW_ID</th>\n",
       "      <th>EXPIRE_FLAG</th>\n",
       "    </tr>\n",
       "  </thead>\n",
       "  <tbody>\n",
       "    <tr>\n",
       "      <th>count</th>\n",
       "      <td>1480.000000</td>\n",
       "      <td>1480.000000</td>\n",
       "      <td>1480.000000</td>\n",
       "      <td>1480.000000</td>\n",
       "      <td>1480.000000</td>\n",
       "      <td>1480.000000</td>\n",
       "      <td>1480.000000</td>\n",
       "      <td>1480.000000</td>\n",
       "      <td>1480.000000</td>\n",
       "      <td>1480.000000</td>\n",
       "    </tr>\n",
       "    <tr>\n",
       "      <th>mean</th>\n",
       "      <td>34109.503378</td>\n",
       "      <td>41141.035135</td>\n",
       "      <td>149762.147297</td>\n",
       "      <td>0.235811</td>\n",
       "      <td>0.993243</td>\n",
       "      <td>0.325000</td>\n",
       "      <td>341681.456757</td>\n",
       "      <td>2.631757</td>\n",
       "      <td>26588.588514</td>\n",
       "      <td>0.539189</td>\n",
       "    </tr>\n",
       "    <tr>\n",
       "      <th>std</th>\n",
       "      <td>16677.292720</td>\n",
       "      <td>29017.529563</td>\n",
       "      <td>28427.162950</td>\n",
       "      <td>0.424648</td>\n",
       "      <td>0.081949</td>\n",
       "      <td>0.468533</td>\n",
       "      <td>183527.986776</td>\n",
       "      <td>2.764391</td>\n",
       "      <td>13127.263260</td>\n",
       "      <td>0.498630</td>\n",
       "    </tr>\n",
       "    <tr>\n",
       "      <th>min</th>\n",
       "      <td>190.000000</td>\n",
       "      <td>141.000000</td>\n",
       "      <td>100108.000000</td>\n",
       "      <td>0.000000</td>\n",
       "      <td>0.000000</td>\n",
       "      <td>0.000000</td>\n",
       "      <td>1784.000000</td>\n",
       "      <td>1.000000</td>\n",
       "      <td>131.000000</td>\n",
       "      <td>0.000000</td>\n",
       "    </tr>\n",
       "    <tr>\n",
       "      <th>25%</th>\n",
       "      <td>19966.500000</td>\n",
       "      <td>16348.750000</td>\n",
       "      <td>125688.000000</td>\n",
       "      <td>0.000000</td>\n",
       "      <td>1.000000</td>\n",
       "      <td>0.000000</td>\n",
       "      <td>181866.250000</td>\n",
       "      <td>1.000000</td>\n",
       "      <td>15460.250000</td>\n",
       "      <td>0.000000</td>\n",
       "    </tr>\n",
       "    <tr>\n",
       "      <th>50%</th>\n",
       "      <td>37109.000000</td>\n",
       "      <td>30483.000000</td>\n",
       "      <td>149424.000000</td>\n",
       "      <td>0.000000</td>\n",
       "      <td>1.000000</td>\n",
       "      <td>0.000000</td>\n",
       "      <td>350179.500000</td>\n",
       "      <td>2.000000</td>\n",
       "      <td>28650.000000</td>\n",
       "      <td>1.000000</td>\n",
       "    </tr>\n",
       "    <tr>\n",
       "      <th>75%</th>\n",
       "      <td>48261.750000</td>\n",
       "      <td>66278.250000</td>\n",
       "      <td>174394.000000</td>\n",
       "      <td>0.000000</td>\n",
       "      <td>1.000000</td>\n",
       "      <td>1.000000</td>\n",
       "      <td>500079.000000</td>\n",
       "      <td>3.000000</td>\n",
       "      <td>37764.750000</td>\n",
       "      <td>1.000000</td>\n",
       "    </tr>\n",
       "    <tr>\n",
       "      <th>max</th>\n",
       "      <td>58957.000000</td>\n",
       "      <td>99936.000000</td>\n",
       "      <td>199972.000000</td>\n",
       "      <td>1.000000</td>\n",
       "      <td>1.000000</td>\n",
       "      <td>1.000000</td>\n",
       "      <td>650809.000000</td>\n",
       "      <td>33.000000</td>\n",
       "      <td>46503.000000</td>\n",
       "      <td>1.000000</td>\n",
       "    </tr>\n",
       "  </tbody>\n",
       "</table>\n",
       "</div>"
      ],
      "text/plain": [
       "           ROW_ID_x    SUBJECT_ID        HADM_ID  HOSPITAL_EXPIRE_FLAG  \\\n",
       "count   1480.000000   1480.000000    1480.000000           1480.000000   \n",
       "mean   34109.503378  41141.035135  149762.147297              0.235811   \n",
       "std    16677.292720  29017.529563   28427.162950              0.424648   \n",
       "min      190.000000    141.000000  100108.000000              0.000000   \n",
       "25%    19966.500000  16348.750000  125688.000000              0.000000   \n",
       "50%    37109.000000  30483.000000  149424.000000              0.000000   \n",
       "75%    48261.750000  66278.250000  174394.000000              0.000000   \n",
       "max    58957.000000  99936.000000  199972.000000              1.000000   \n",
       "\n",
       "       HAS_CHARTEVENTS_DATA    is_stroke       ROW_ID_y      SEQ_NUM  \\\n",
       "count           1480.000000  1480.000000    1480.000000  1480.000000   \n",
       "mean               0.993243     0.325000  341681.456757     2.631757   \n",
       "std                0.081949     0.468533  183527.986776     2.764391   \n",
       "min                0.000000     0.000000    1784.000000     1.000000   \n",
       "25%                1.000000     0.000000  181866.250000     1.000000   \n",
       "50%                1.000000     0.000000  350179.500000     2.000000   \n",
       "75%                1.000000     1.000000  500079.000000     3.000000   \n",
       "max                1.000000     1.000000  650809.000000    33.000000   \n",
       "\n",
       "             ROW_ID  EXPIRE_FLAG  \n",
       "count   1480.000000  1480.000000  \n",
       "mean   26588.588514     0.539189  \n",
       "std    13127.263260     0.498630  \n",
       "min      131.000000     0.000000  \n",
       "25%    15460.250000     0.000000  \n",
       "50%    28650.000000     1.000000  \n",
       "75%    37764.750000     1.000000  \n",
       "max    46503.000000     1.000000  "
      ]
     },
     "execution_count": 29,
     "metadata": {},
     "output_type": "execute_result"
    }
   ],
   "source": [
    "stroke_patients.describe()"
   ]
  },
  {
   "cell_type": "code",
   "execution_count": 10,
   "metadata": {
    "collapsed": false
   },
   "outputs": [
    {
     "ename": "IOError",
     "evalue": "File cptevents.csv does not exist",
     "output_type": "error",
     "traceback": [
      "\u001b[0;31m---------------------------------------------------------------------------\u001b[0m",
      "\u001b[0;31mIOError\u001b[0m                                   Traceback (most recent call last)",
      "\u001b[0;32m<ipython-input-10-ccd65148e21f>\u001b[0m in \u001b[0;36m<module>\u001b[0;34m()\u001b[0m\n\u001b[0;32m----> 1\u001b[0;31m \u001b[0mcptevents\u001b[0m \u001b[0;34m=\u001b[0m \u001b[0mpd\u001b[0m\u001b[0;34m.\u001b[0m\u001b[0mread_csv\u001b[0m\u001b[0;34m(\u001b[0m\u001b[0;34m\"cptevents.csv\"\u001b[0m\u001b[0;34m)\u001b[0m\u001b[0;34m\u001b[0m\u001b[0m\n\u001b[0m\u001b[1;32m      2\u001b[0m \u001b[0mcptevents\u001b[0m\u001b[0;34m.\u001b[0m\u001b[0mhead\u001b[0m\u001b[0;34m(\u001b[0m\u001b[0;34m)\u001b[0m\u001b[0;34m\u001b[0m\u001b[0m\n",
      "\u001b[0;32m/Users/xu/anaconda/lib/python2.7/site-packages/pandas/io/parsers.pyc\u001b[0m in \u001b[0;36mparser_f\u001b[0;34m(filepath_or_buffer, sep, delimiter, header, names, index_col, usecols, squeeze, prefix, mangle_dupe_cols, dtype, engine, converters, true_values, false_values, skipinitialspace, skiprows, nrows, na_values, keep_default_na, na_filter, verbose, skip_blank_lines, parse_dates, infer_datetime_format, keep_date_col, date_parser, dayfirst, iterator, chunksize, compression, thousands, decimal, lineterminator, quotechar, quoting, escapechar, comment, encoding, dialect, tupleize_cols, error_bad_lines, warn_bad_lines, skipfooter, skip_footer, doublequote, delim_whitespace, as_recarray, compact_ints, use_unsigned, low_memory, buffer_lines, memory_map, float_precision)\u001b[0m\n\u001b[1;32m    644\u001b[0m                     skip_blank_lines=skip_blank_lines)\n\u001b[1;32m    645\u001b[0m \u001b[0;34m\u001b[0m\u001b[0m\n\u001b[0;32m--> 646\u001b[0;31m         \u001b[0;32mreturn\u001b[0m \u001b[0m_read\u001b[0m\u001b[0;34m(\u001b[0m\u001b[0mfilepath_or_buffer\u001b[0m\u001b[0;34m,\u001b[0m \u001b[0mkwds\u001b[0m\u001b[0;34m)\u001b[0m\u001b[0;34m\u001b[0m\u001b[0m\n\u001b[0m\u001b[1;32m    647\u001b[0m \u001b[0;34m\u001b[0m\u001b[0m\n\u001b[1;32m    648\u001b[0m     \u001b[0mparser_f\u001b[0m\u001b[0;34m.\u001b[0m\u001b[0m__name__\u001b[0m \u001b[0;34m=\u001b[0m \u001b[0mname\u001b[0m\u001b[0;34m\u001b[0m\u001b[0m\n",
      "\u001b[0;32m/Users/xu/anaconda/lib/python2.7/site-packages/pandas/io/parsers.pyc\u001b[0m in \u001b[0;36m_read\u001b[0;34m(filepath_or_buffer, kwds)\u001b[0m\n\u001b[1;32m    387\u001b[0m \u001b[0;34m\u001b[0m\u001b[0m\n\u001b[1;32m    388\u001b[0m     \u001b[0;31m# Create the parser.\u001b[0m\u001b[0;34m\u001b[0m\u001b[0;34m\u001b[0m\u001b[0m\n\u001b[0;32m--> 389\u001b[0;31m     \u001b[0mparser\u001b[0m \u001b[0;34m=\u001b[0m \u001b[0mTextFileReader\u001b[0m\u001b[0;34m(\u001b[0m\u001b[0mfilepath_or_buffer\u001b[0m\u001b[0;34m,\u001b[0m \u001b[0;34m**\u001b[0m\u001b[0mkwds\u001b[0m\u001b[0;34m)\u001b[0m\u001b[0;34m\u001b[0m\u001b[0m\n\u001b[0m\u001b[1;32m    390\u001b[0m \u001b[0;34m\u001b[0m\u001b[0m\n\u001b[1;32m    391\u001b[0m     \u001b[0;32mif\u001b[0m \u001b[0;34m(\u001b[0m\u001b[0mnrows\u001b[0m \u001b[0;32mis\u001b[0m \u001b[0;32mnot\u001b[0m \u001b[0mNone\u001b[0m\u001b[0;34m)\u001b[0m \u001b[0;32mand\u001b[0m \u001b[0;34m(\u001b[0m\u001b[0mchunksize\u001b[0m \u001b[0;32mis\u001b[0m \u001b[0;32mnot\u001b[0m \u001b[0mNone\u001b[0m\u001b[0;34m)\u001b[0m\u001b[0;34m:\u001b[0m\u001b[0;34m\u001b[0m\u001b[0m\n",
      "\u001b[0;32m/Users/xu/anaconda/lib/python2.7/site-packages/pandas/io/parsers.pyc\u001b[0m in \u001b[0;36m__init__\u001b[0;34m(self, f, engine, **kwds)\u001b[0m\n\u001b[1;32m    728\u001b[0m             \u001b[0mself\u001b[0m\u001b[0;34m.\u001b[0m\u001b[0moptions\u001b[0m\u001b[0;34m[\u001b[0m\u001b[0;34m'has_index_names'\u001b[0m\u001b[0;34m]\u001b[0m \u001b[0;34m=\u001b[0m \u001b[0mkwds\u001b[0m\u001b[0;34m[\u001b[0m\u001b[0;34m'has_index_names'\u001b[0m\u001b[0;34m]\u001b[0m\u001b[0;34m\u001b[0m\u001b[0m\n\u001b[1;32m    729\u001b[0m \u001b[0;34m\u001b[0m\u001b[0m\n\u001b[0;32m--> 730\u001b[0;31m         \u001b[0mself\u001b[0m\u001b[0;34m.\u001b[0m\u001b[0m_make_engine\u001b[0m\u001b[0;34m(\u001b[0m\u001b[0mself\u001b[0m\u001b[0;34m.\u001b[0m\u001b[0mengine\u001b[0m\u001b[0;34m)\u001b[0m\u001b[0;34m\u001b[0m\u001b[0m\n\u001b[0m\u001b[1;32m    731\u001b[0m \u001b[0;34m\u001b[0m\u001b[0m\n\u001b[1;32m    732\u001b[0m     \u001b[0;32mdef\u001b[0m \u001b[0mclose\u001b[0m\u001b[0;34m(\u001b[0m\u001b[0mself\u001b[0m\u001b[0;34m)\u001b[0m\u001b[0;34m:\u001b[0m\u001b[0;34m\u001b[0m\u001b[0m\n",
      "\u001b[0;32m/Users/xu/anaconda/lib/python2.7/site-packages/pandas/io/parsers.pyc\u001b[0m in \u001b[0;36m_make_engine\u001b[0;34m(self, engine)\u001b[0m\n\u001b[1;32m    921\u001b[0m     \u001b[0;32mdef\u001b[0m \u001b[0m_make_engine\u001b[0m\u001b[0;34m(\u001b[0m\u001b[0mself\u001b[0m\u001b[0;34m,\u001b[0m \u001b[0mengine\u001b[0m\u001b[0;34m=\u001b[0m\u001b[0;34m'c'\u001b[0m\u001b[0;34m)\u001b[0m\u001b[0;34m:\u001b[0m\u001b[0;34m\u001b[0m\u001b[0m\n\u001b[1;32m    922\u001b[0m         \u001b[0;32mif\u001b[0m \u001b[0mengine\u001b[0m \u001b[0;34m==\u001b[0m \u001b[0;34m'c'\u001b[0m\u001b[0;34m:\u001b[0m\u001b[0;34m\u001b[0m\u001b[0m\n\u001b[0;32m--> 923\u001b[0;31m             \u001b[0mself\u001b[0m\u001b[0;34m.\u001b[0m\u001b[0m_engine\u001b[0m \u001b[0;34m=\u001b[0m \u001b[0mCParserWrapper\u001b[0m\u001b[0;34m(\u001b[0m\u001b[0mself\u001b[0m\u001b[0;34m.\u001b[0m\u001b[0mf\u001b[0m\u001b[0;34m,\u001b[0m \u001b[0;34m**\u001b[0m\u001b[0mself\u001b[0m\u001b[0;34m.\u001b[0m\u001b[0moptions\u001b[0m\u001b[0;34m)\u001b[0m\u001b[0;34m\u001b[0m\u001b[0m\n\u001b[0m\u001b[1;32m    924\u001b[0m         \u001b[0;32melse\u001b[0m\u001b[0;34m:\u001b[0m\u001b[0;34m\u001b[0m\u001b[0m\n\u001b[1;32m    925\u001b[0m             \u001b[0;32mif\u001b[0m \u001b[0mengine\u001b[0m \u001b[0;34m==\u001b[0m \u001b[0;34m'python'\u001b[0m\u001b[0;34m:\u001b[0m\u001b[0;34m\u001b[0m\u001b[0m\n",
      "\u001b[0;32m/Users/xu/anaconda/lib/python2.7/site-packages/pandas/io/parsers.pyc\u001b[0m in \u001b[0;36m__init__\u001b[0;34m(self, src, **kwds)\u001b[0m\n\u001b[1;32m   1388\u001b[0m         \u001b[0mkwds\u001b[0m\u001b[0;34m[\u001b[0m\u001b[0;34m'allow_leading_cols'\u001b[0m\u001b[0;34m]\u001b[0m \u001b[0;34m=\u001b[0m \u001b[0mself\u001b[0m\u001b[0;34m.\u001b[0m\u001b[0mindex_col\u001b[0m \u001b[0;32mis\u001b[0m \u001b[0;32mnot\u001b[0m \u001b[0mFalse\u001b[0m\u001b[0;34m\u001b[0m\u001b[0m\n\u001b[1;32m   1389\u001b[0m \u001b[0;34m\u001b[0m\u001b[0m\n\u001b[0;32m-> 1390\u001b[0;31m         \u001b[0mself\u001b[0m\u001b[0;34m.\u001b[0m\u001b[0m_reader\u001b[0m \u001b[0;34m=\u001b[0m \u001b[0m_parser\u001b[0m\u001b[0;34m.\u001b[0m\u001b[0mTextReader\u001b[0m\u001b[0;34m(\u001b[0m\u001b[0msrc\u001b[0m\u001b[0;34m,\u001b[0m \u001b[0;34m**\u001b[0m\u001b[0mkwds\u001b[0m\u001b[0;34m)\u001b[0m\u001b[0;34m\u001b[0m\u001b[0m\n\u001b[0m\u001b[1;32m   1391\u001b[0m \u001b[0;34m\u001b[0m\u001b[0m\n\u001b[1;32m   1392\u001b[0m         \u001b[0;31m# XXX\u001b[0m\u001b[0;34m\u001b[0m\u001b[0;34m\u001b[0m\u001b[0m\n",
      "\u001b[0;32mpandas/parser.pyx\u001b[0m in \u001b[0;36mpandas.parser.TextReader.__cinit__ (pandas/parser.c:4184)\u001b[0;34m()\u001b[0m\n",
      "\u001b[0;32mpandas/parser.pyx\u001b[0m in \u001b[0;36mpandas.parser.TextReader._setup_parser_source (pandas/parser.c:8449)\u001b[0;34m()\u001b[0m\n",
      "\u001b[0;31mIOError\u001b[0m: File cptevents.csv does not exist"
     ]
    }
   ],
   "source": [
    "cptevents = pd.read_csv(\"cptevents.csv\")\n",
    "cptevents.head()"
   ]
  },
  {
   "cell_type": "code",
   "execution_count": 17,
   "metadata": {
    "collapsed": true
   },
   "outputs": [],
   "source": [
    "D_CPT = pd.read_csv(\"D_CPT.csv\")"
   ]
  },
  {
   "cell_type": "code",
   "execution_count": 18,
   "metadata": {
    "collapsed": false
   },
   "outputs": [
    {
     "data": {
      "text/html": [
       "<div>\n",
       "<style>\n",
       "    .dataframe thead tr:only-child th {\n",
       "        text-align: right;\n",
       "    }\n",
       "\n",
       "    .dataframe thead th {\n",
       "        text-align: left;\n",
       "    }\n",
       "\n",
       "    .dataframe tbody tr th {\n",
       "        vertical-align: top;\n",
       "    }\n",
       "</style>\n",
       "<table border=\"1\" class=\"dataframe\">\n",
       "  <thead>\n",
       "    <tr style=\"text-align: right;\">\n",
       "      <th></th>\n",
       "      <th>ROW_ID</th>\n",
       "      <th>CATEGORY</th>\n",
       "      <th>SECTIONRANGE</th>\n",
       "      <th>SECTIONHEADER</th>\n",
       "      <th>SUBSECTIONRANGE</th>\n",
       "      <th>SUBSECTIONHEADER</th>\n",
       "      <th>CODESUFFIX</th>\n",
       "      <th>MINCODEINSUBSECTION</th>\n",
       "      <th>MAXCODEINSUBSECTION</th>\n",
       "    </tr>\n",
       "  </thead>\n",
       "  <tbody>\n",
       "    <tr>\n",
       "      <th>0</th>\n",
       "      <td>1</td>\n",
       "      <td>1</td>\n",
       "      <td>99201-99499</td>\n",
       "      <td>Evaluation and management</td>\n",
       "      <td>99201-99216</td>\n",
       "      <td>Office/other outpatient services</td>\n",
       "      <td>NaN</td>\n",
       "      <td>99201</td>\n",
       "      <td>99216</td>\n",
       "    </tr>\n",
       "    <tr>\n",
       "      <th>1</th>\n",
       "      <td>2</td>\n",
       "      <td>1</td>\n",
       "      <td>99201-99499</td>\n",
       "      <td>Evaluation and management</td>\n",
       "      <td>99217-99220</td>\n",
       "      <td>Hospital observation services</td>\n",
       "      <td>NaN</td>\n",
       "      <td>99217</td>\n",
       "      <td>99220</td>\n",
       "    </tr>\n",
       "    <tr>\n",
       "      <th>2</th>\n",
       "      <td>3</td>\n",
       "      <td>1</td>\n",
       "      <td>99201-99499</td>\n",
       "      <td>Evaluation and management</td>\n",
       "      <td>99221-99239</td>\n",
       "      <td>Hospital inpatient services</td>\n",
       "      <td>NaN</td>\n",
       "      <td>99221</td>\n",
       "      <td>99239</td>\n",
       "    </tr>\n",
       "    <tr>\n",
       "      <th>3</th>\n",
       "      <td>4</td>\n",
       "      <td>1</td>\n",
       "      <td>99201-99499</td>\n",
       "      <td>Evaluation and management</td>\n",
       "      <td>99241-99255</td>\n",
       "      <td>Consultations</td>\n",
       "      <td>NaN</td>\n",
       "      <td>99241</td>\n",
       "      <td>99255</td>\n",
       "    </tr>\n",
       "    <tr>\n",
       "      <th>4</th>\n",
       "      <td>5</td>\n",
       "      <td>1</td>\n",
       "      <td>99201-99499</td>\n",
       "      <td>Evaluation and management</td>\n",
       "      <td>99261-99263</td>\n",
       "      <td>Follow-up inpatient consultations (deleted codes)</td>\n",
       "      <td>NaN</td>\n",
       "      <td>99261</td>\n",
       "      <td>99263</td>\n",
       "    </tr>\n",
       "  </tbody>\n",
       "</table>\n",
       "</div>"
      ],
      "text/plain": [
       "   ROW_ID  CATEGORY SECTIONRANGE              SECTIONHEADER SUBSECTIONRANGE  \\\n",
       "0       1         1  99201-99499  Evaluation and management     99201-99216   \n",
       "1       2         1  99201-99499  Evaluation and management     99217-99220   \n",
       "2       3         1  99201-99499  Evaluation and management     99221-99239   \n",
       "3       4         1  99201-99499  Evaluation and management     99241-99255   \n",
       "4       5         1  99201-99499  Evaluation and management     99261-99263   \n",
       "\n",
       "                                    SUBSECTIONHEADER CODESUFFIX  \\\n",
       "0                   Office/other outpatient services        NaN   \n",
       "1                      Hospital observation services        NaN   \n",
       "2                        Hospital inpatient services        NaN   \n",
       "3                                      Consultations        NaN   \n",
       "4  Follow-up inpatient consultations (deleted codes)        NaN   \n",
       "\n",
       "   MINCODEINSUBSECTION  MAXCODEINSUBSECTION  \n",
       "0                99201                99216  \n",
       "1                99217                99220  \n",
       "2                99221                99239  \n",
       "3                99241                99255  \n",
       "4                99261                99263  "
      ]
     },
     "execution_count": 18,
     "metadata": {},
     "output_type": "execute_result"
    }
   ],
   "source": [
    "D_CPT.head()"
   ]
  },
  {
   "cell_type": "code",
   "execution_count": 19,
   "metadata": {
    "collapsed": true
   },
   "outputs": [],
   "source": [
    "D_ICD_DiAGNOSES=pd.read_csv(\"d_icd_diagnoses.csv\")"
   ]
  },
  {
   "cell_type": "code",
   "execution_count": 21,
   "metadata": {
    "collapsed": false
   },
   "outputs": [
    {
     "data": {
      "text/html": [
       "<div>\n",
       "<style>\n",
       "    .dataframe thead tr:only-child th {\n",
       "        text-align: right;\n",
       "    }\n",
       "\n",
       "    .dataframe thead th {\n",
       "        text-align: left;\n",
       "    }\n",
       "\n",
       "    .dataframe tbody tr th {\n",
       "        vertical-align: top;\n",
       "    }\n",
       "</style>\n",
       "<table border=\"1\" class=\"dataframe\">\n",
       "  <thead>\n",
       "    <tr style=\"text-align: right;\">\n",
       "      <th></th>\n",
       "      <th>ROW_ID</th>\n",
       "      <th>ICD9_CODE</th>\n",
       "      <th>SHORT_TITLE</th>\n",
       "      <th>LONG_TITLE</th>\n",
       "    </tr>\n",
       "  </thead>\n",
       "  <tbody>\n",
       "    <tr>\n",
       "      <th>0</th>\n",
       "      <td>174</td>\n",
       "      <td>01166</td>\n",
       "      <td>TB pneumonia-oth test</td>\n",
       "      <td>Tuberculous pneumonia [any form], tubercle bac...</td>\n",
       "    </tr>\n",
       "    <tr>\n",
       "      <th>1</th>\n",
       "      <td>175</td>\n",
       "      <td>01170</td>\n",
       "      <td>TB pneumothorax-unspec</td>\n",
       "      <td>Tuberculous pneumothorax, unspecified</td>\n",
       "    </tr>\n",
       "    <tr>\n",
       "      <th>2</th>\n",
       "      <td>176</td>\n",
       "      <td>01171</td>\n",
       "      <td>TB pneumothorax-no exam</td>\n",
       "      <td>Tuberculous pneumothorax, bacteriological or h...</td>\n",
       "    </tr>\n",
       "    <tr>\n",
       "      <th>3</th>\n",
       "      <td>177</td>\n",
       "      <td>01172</td>\n",
       "      <td>TB pneumothorx-exam unkn</td>\n",
       "      <td>Tuberculous pneumothorax, bacteriological or h...</td>\n",
       "    </tr>\n",
       "    <tr>\n",
       "      <th>4</th>\n",
       "      <td>178</td>\n",
       "      <td>01173</td>\n",
       "      <td>TB pneumothorax-micro dx</td>\n",
       "      <td>Tuberculous pneumothorax, tubercle bacilli fou...</td>\n",
       "    </tr>\n",
       "  </tbody>\n",
       "</table>\n",
       "</div>"
      ],
      "text/plain": [
       "   ROW_ID ICD9_CODE               SHORT_TITLE  \\\n",
       "0     174     01166     TB pneumonia-oth test   \n",
       "1     175     01170    TB pneumothorax-unspec   \n",
       "2     176     01171   TB pneumothorax-no exam   \n",
       "3     177     01172  TB pneumothorx-exam unkn   \n",
       "4     178     01173  TB pneumothorax-micro dx   \n",
       "\n",
       "                                          LONG_TITLE  \n",
       "0  Tuberculous pneumonia [any form], tubercle bac...  \n",
       "1              Tuberculous pneumothorax, unspecified  \n",
       "2  Tuberculous pneumothorax, bacteriological or h...  \n",
       "3  Tuberculous pneumothorax, bacteriological or h...  \n",
       "4  Tuberculous pneumothorax, tubercle bacilli fou...  "
      ]
     },
     "execution_count": 21,
     "metadata": {},
     "output_type": "execute_result"
    }
   ],
   "source": [
    "D_ICD_DiAGNOSES.head()"
   ]
  },
  {
   "cell_type": "code",
   "execution_count": 23,
   "metadata": {
    "collapsed": true
   },
   "outputs": [],
   "source": [
    "D_ICD_PROCEDURES = pd.read_csv(\"D_ICD_PROCEDURES.csv\")"
   ]
  },
  {
   "cell_type": "code",
   "execution_count": 24,
   "metadata": {
    "collapsed": false
   },
   "outputs": [
    {
     "data": {
      "text/html": [
       "<div>\n",
       "<style>\n",
       "    .dataframe thead tr:only-child th {\n",
       "        text-align: right;\n",
       "    }\n",
       "\n",
       "    .dataframe thead th {\n",
       "        text-align: left;\n",
       "    }\n",
       "\n",
       "    .dataframe tbody tr th {\n",
       "        vertical-align: top;\n",
       "    }\n",
       "</style>\n",
       "<table border=\"1\" class=\"dataframe\">\n",
       "  <thead>\n",
       "    <tr style=\"text-align: right;\">\n",
       "      <th></th>\n",
       "      <th>ROW_ID</th>\n",
       "      <th>ICD9_CODE</th>\n",
       "      <th>SHORT_TITLE</th>\n",
       "      <th>LONG_TITLE</th>\n",
       "    </tr>\n",
       "  </thead>\n",
       "  <tbody>\n",
       "    <tr>\n",
       "      <th>0</th>\n",
       "      <td>264</td>\n",
       "      <td>851</td>\n",
       "      <td>Canthotomy</td>\n",
       "      <td>Canthotomy</td>\n",
       "    </tr>\n",
       "    <tr>\n",
       "      <th>1</th>\n",
       "      <td>265</td>\n",
       "      <td>852</td>\n",
       "      <td>Blepharorrhaphy</td>\n",
       "      <td>Blepharorrhaphy</td>\n",
       "    </tr>\n",
       "    <tr>\n",
       "      <th>2</th>\n",
       "      <td>266</td>\n",
       "      <td>859</td>\n",
       "      <td>Adjust lid position NEC</td>\n",
       "      <td>Other adjustment of lid position</td>\n",
       "    </tr>\n",
       "    <tr>\n",
       "      <th>3</th>\n",
       "      <td>267</td>\n",
       "      <td>861</td>\n",
       "      <td>Lid reconst w skin graft</td>\n",
       "      <td>Reconstruction of eyelid with skin flap or graft</td>\n",
       "    </tr>\n",
       "    <tr>\n",
       "      <th>4</th>\n",
       "      <td>268</td>\n",
       "      <td>862</td>\n",
       "      <td>Lid reconst w muc graft</td>\n",
       "      <td>Reconstruction of eyelid with mucous membrane ...</td>\n",
       "    </tr>\n",
       "  </tbody>\n",
       "</table>\n",
       "</div>"
      ],
      "text/plain": [
       "   ROW_ID  ICD9_CODE               SHORT_TITLE  \\\n",
       "0     264        851                Canthotomy   \n",
       "1     265        852           Blepharorrhaphy   \n",
       "2     266        859   Adjust lid position NEC   \n",
       "3     267        861  Lid reconst w skin graft   \n",
       "4     268        862   Lid reconst w muc graft   \n",
       "\n",
       "                                          LONG_TITLE  \n",
       "0                                         Canthotomy  \n",
       "1                                    Blepharorrhaphy  \n",
       "2                   Other adjustment of lid position  \n",
       "3   Reconstruction of eyelid with skin flap or graft  \n",
       "4  Reconstruction of eyelid with mucous membrane ...  "
      ]
     },
     "execution_count": 24,
     "metadata": {},
     "output_type": "execute_result"
    }
   ],
   "source": [
    "D_ICD_PROCEDURES.head()"
   ]
  },
  {
   "cell_type": "code",
   "execution_count": 25,
   "metadata": {
    "collapsed": false
   },
   "outputs": [
    {
     "data": {
      "text/html": [
       "<div>\n",
       "<style>\n",
       "    .dataframe thead tr:only-child th {\n",
       "        text-align: right;\n",
       "    }\n",
       "\n",
       "    .dataframe thead th {\n",
       "        text-align: left;\n",
       "    }\n",
       "\n",
       "    .dataframe tbody tr th {\n",
       "        vertical-align: top;\n",
       "    }\n",
       "</style>\n",
       "<table border=\"1\" class=\"dataframe\">\n",
       "  <thead>\n",
       "    <tr style=\"text-align: right;\">\n",
       "      <th></th>\n",
       "      <th>ROW_ID</th>\n",
       "      <th>ITEMID</th>\n",
       "      <th>LABEL</th>\n",
       "      <th>ABBREVIATION</th>\n",
       "      <th>DBSOURCE</th>\n",
       "      <th>LINKSTO</th>\n",
       "      <th>CATEGORY</th>\n",
       "      <th>UNITNAME</th>\n",
       "      <th>PARAM_TYPE</th>\n",
       "      <th>CONCEPTID</th>\n",
       "    </tr>\n",
       "  </thead>\n",
       "  <tbody>\n",
       "    <tr>\n",
       "      <th>0</th>\n",
       "      <td>457</td>\n",
       "      <td>497</td>\n",
       "      <td>Patient controlled analgesia (PCA) [Inject]</td>\n",
       "      <td>NaN</td>\n",
       "      <td>carevue</td>\n",
       "      <td>chartevents</td>\n",
       "      <td>NaN</td>\n",
       "      <td>NaN</td>\n",
       "      <td>NaN</td>\n",
       "      <td>NaN</td>\n",
       "    </tr>\n",
       "    <tr>\n",
       "      <th>1</th>\n",
       "      <td>458</td>\n",
       "      <td>498</td>\n",
       "      <td>PCA Lockout (Min)</td>\n",
       "      <td>NaN</td>\n",
       "      <td>carevue</td>\n",
       "      <td>chartevents</td>\n",
       "      <td>NaN</td>\n",
       "      <td>NaN</td>\n",
       "      <td>NaN</td>\n",
       "      <td>NaN</td>\n",
       "    </tr>\n",
       "    <tr>\n",
       "      <th>2</th>\n",
       "      <td>459</td>\n",
       "      <td>499</td>\n",
       "      <td>PCA Medication</td>\n",
       "      <td>NaN</td>\n",
       "      <td>carevue</td>\n",
       "      <td>chartevents</td>\n",
       "      <td>NaN</td>\n",
       "      <td>NaN</td>\n",
       "      <td>NaN</td>\n",
       "      <td>NaN</td>\n",
       "    </tr>\n",
       "    <tr>\n",
       "      <th>3</th>\n",
       "      <td>460</td>\n",
       "      <td>500</td>\n",
       "      <td>PCA Total Dose</td>\n",
       "      <td>NaN</td>\n",
       "      <td>carevue</td>\n",
       "      <td>chartevents</td>\n",
       "      <td>NaN</td>\n",
       "      <td>NaN</td>\n",
       "      <td>NaN</td>\n",
       "      <td>NaN</td>\n",
       "    </tr>\n",
       "    <tr>\n",
       "      <th>4</th>\n",
       "      <td>461</td>\n",
       "      <td>501</td>\n",
       "      <td>PCV Exh Vt (Obser)</td>\n",
       "      <td>NaN</td>\n",
       "      <td>carevue</td>\n",
       "      <td>chartevents</td>\n",
       "      <td>NaN</td>\n",
       "      <td>NaN</td>\n",
       "      <td>NaN</td>\n",
       "      <td>NaN</td>\n",
       "    </tr>\n",
       "  </tbody>\n",
       "</table>\n",
       "</div>"
      ],
      "text/plain": [
       "   ROW_ID  ITEMID                                        LABEL ABBREVIATION  \\\n",
       "0     457     497  Patient controlled analgesia (PCA) [Inject]          NaN   \n",
       "1     458     498                            PCA Lockout (Min)          NaN   \n",
       "2     459     499                               PCA Medication          NaN   \n",
       "3     460     500                               PCA Total Dose          NaN   \n",
       "4     461     501                           PCV Exh Vt (Obser)          NaN   \n",
       "\n",
       "  DBSOURCE      LINKSTO CATEGORY UNITNAME PARAM_TYPE  CONCEPTID  \n",
       "0  carevue  chartevents      NaN      NaN        NaN        NaN  \n",
       "1  carevue  chartevents      NaN      NaN        NaN        NaN  \n",
       "2  carevue  chartevents      NaN      NaN        NaN        NaN  \n",
       "3  carevue  chartevents      NaN      NaN        NaN        NaN  \n",
       "4  carevue  chartevents      NaN      NaN        NaN        NaN  "
      ]
     },
     "execution_count": 25,
     "metadata": {},
     "output_type": "execute_result"
    }
   ],
   "source": [
    "D_ITEMS = pd.read_csv(\"d_items.csv\")\n",
    "D_ITEMS.head()"
   ]
  },
  {
   "cell_type": "code",
   "execution_count": 26,
   "metadata": {
    "collapsed": false
   },
   "outputs": [
    {
     "name": "stderr",
     "output_type": "stream",
     "text": [
      "/anaconda/lib/python2.7/site-packages/IPython/core/interactiveshell.py:2717: DtypeWarning: Columns (13) have mixed types. Specify dtype option on import or set low_memory=False.\n",
      "  interactivity=interactivity, compiler=compiler, result=result)\n"
     ]
    }
   ],
   "source": [
    "DATETIMEEVENTS=pd.read_csv(\"datetimeevents.csv\")"
   ]
  },
  {
   "cell_type": "code",
   "execution_count": 27,
   "metadata": {
    "collapsed": false
   },
   "outputs": [
    {
     "data": {
      "text/html": [
       "<div>\n",
       "<style>\n",
       "    .dataframe thead tr:only-child th {\n",
       "        text-align: right;\n",
       "    }\n",
       "\n",
       "    .dataframe thead th {\n",
       "        text-align: left;\n",
       "    }\n",
       "\n",
       "    .dataframe tbody tr th {\n",
       "        vertical-align: top;\n",
       "    }\n",
       "</style>\n",
       "<table border=\"1\" class=\"dataframe\">\n",
       "  <thead>\n",
       "    <tr style=\"text-align: right;\">\n",
       "      <th></th>\n",
       "      <th>ROW_ID</th>\n",
       "      <th>SUBJECT_ID</th>\n",
       "      <th>HADM_ID</th>\n",
       "      <th>ICUSTAY_ID</th>\n",
       "      <th>ITEMID</th>\n",
       "      <th>CHARTTIME</th>\n",
       "      <th>STORETIME</th>\n",
       "      <th>CGID</th>\n",
       "      <th>VALUE</th>\n",
       "      <th>VALUEUOM</th>\n",
       "      <th>WARNING</th>\n",
       "      <th>ERROR</th>\n",
       "      <th>RESULTSTATUS</th>\n",
       "      <th>STOPPED</th>\n",
       "    </tr>\n",
       "  </thead>\n",
       "  <tbody>\n",
       "    <tr>\n",
       "      <th>0</th>\n",
       "      <td>711</td>\n",
       "      <td>7657</td>\n",
       "      <td>121183.0</td>\n",
       "      <td>297945.0</td>\n",
       "      <td>3411</td>\n",
       "      <td>2172-03-14 11:00:00</td>\n",
       "      <td>2172-03-14 11:52:00</td>\n",
       "      <td>16446</td>\n",
       "      <td>NaN</td>\n",
       "      <td>Date</td>\n",
       "      <td>NaN</td>\n",
       "      <td>NaN</td>\n",
       "      <td>NaN</td>\n",
       "      <td>NotStopd</td>\n",
       "    </tr>\n",
       "    <tr>\n",
       "      <th>1</th>\n",
       "      <td>712</td>\n",
       "      <td>7657</td>\n",
       "      <td>121183.0</td>\n",
       "      <td>297945.0</td>\n",
       "      <td>3411</td>\n",
       "      <td>2172-03-14 13:00:00</td>\n",
       "      <td>2172-03-14 12:36:00</td>\n",
       "      <td>16446</td>\n",
       "      <td>NaN</td>\n",
       "      <td>Date</td>\n",
       "      <td>NaN</td>\n",
       "      <td>NaN</td>\n",
       "      <td>NaN</td>\n",
       "      <td>NotStopd</td>\n",
       "    </tr>\n",
       "    <tr>\n",
       "      <th>2</th>\n",
       "      <td>713</td>\n",
       "      <td>7657</td>\n",
       "      <td>121183.0</td>\n",
       "      <td>297945.0</td>\n",
       "      <td>3411</td>\n",
       "      <td>2172-03-14 15:00:00</td>\n",
       "      <td>2172-03-14 15:10:00</td>\n",
       "      <td>14957</td>\n",
       "      <td>NaN</td>\n",
       "      <td>Date</td>\n",
       "      <td>NaN</td>\n",
       "      <td>NaN</td>\n",
       "      <td>NaN</td>\n",
       "      <td>NotStopd</td>\n",
       "    </tr>\n",
       "    <tr>\n",
       "      <th>3</th>\n",
       "      <td>714</td>\n",
       "      <td>7657</td>\n",
       "      <td>121183.0</td>\n",
       "      <td>297945.0</td>\n",
       "      <td>3411</td>\n",
       "      <td>2172-03-14 17:00:00</td>\n",
       "      <td>2172-03-14 17:01:00</td>\n",
       "      <td>16446</td>\n",
       "      <td>NaN</td>\n",
       "      <td>Date</td>\n",
       "      <td>NaN</td>\n",
       "      <td>NaN</td>\n",
       "      <td>NaN</td>\n",
       "      <td>NotStopd</td>\n",
       "    </tr>\n",
       "    <tr>\n",
       "      <th>4</th>\n",
       "      <td>715</td>\n",
       "      <td>7657</td>\n",
       "      <td>121183.0</td>\n",
       "      <td>297945.0</td>\n",
       "      <td>3411</td>\n",
       "      <td>2172-03-14 19:00:00</td>\n",
       "      <td>2172-03-14 19:29:00</td>\n",
       "      <td>14815</td>\n",
       "      <td>NaN</td>\n",
       "      <td>Date</td>\n",
       "      <td>NaN</td>\n",
       "      <td>NaN</td>\n",
       "      <td>NaN</td>\n",
       "      <td>NotStopd</td>\n",
       "    </tr>\n",
       "  </tbody>\n",
       "</table>\n",
       "</div>"
      ],
      "text/plain": [
       "   ROW_ID  SUBJECT_ID   HADM_ID  ICUSTAY_ID  ITEMID            CHARTTIME  \\\n",
       "0     711        7657  121183.0    297945.0    3411  2172-03-14 11:00:00   \n",
       "1     712        7657  121183.0    297945.0    3411  2172-03-14 13:00:00   \n",
       "2     713        7657  121183.0    297945.0    3411  2172-03-14 15:00:00   \n",
       "3     714        7657  121183.0    297945.0    3411  2172-03-14 17:00:00   \n",
       "4     715        7657  121183.0    297945.0    3411  2172-03-14 19:00:00   \n",
       "\n",
       "             STORETIME   CGID VALUE VALUEUOM  WARNING  ERROR  RESULTSTATUS  \\\n",
       "0  2172-03-14 11:52:00  16446   NaN     Date      NaN    NaN           NaN   \n",
       "1  2172-03-14 12:36:00  16446   NaN     Date      NaN    NaN           NaN   \n",
       "2  2172-03-14 15:10:00  14957   NaN     Date      NaN    NaN           NaN   \n",
       "3  2172-03-14 17:01:00  16446   NaN     Date      NaN    NaN           NaN   \n",
       "4  2172-03-14 19:29:00  14815   NaN     Date      NaN    NaN           NaN   \n",
       "\n",
       "    STOPPED  \n",
       "0  NotStopd  \n",
       "1  NotStopd  \n",
       "2  NotStopd  \n",
       "3  NotStopd  \n",
       "4  NotStopd  "
      ]
     },
     "execution_count": 27,
     "metadata": {},
     "output_type": "execute_result"
    }
   ],
   "source": [
    "DATETIMEEVENTS.head()"
   ]
  },
  {
   "cell_type": "code",
   "execution_count": 30,
   "metadata": {
    "collapsed": false
   },
   "outputs": [
    {
     "data": {
      "text/html": [
       "<div>\n",
       "<table border=\"1\" class=\"dataframe\">\n",
       "  <thead>\n",
       "    <tr style=\"text-align: right;\">\n",
       "      <th></th>\n",
       "      <th>ROW_ID</th>\n",
       "      <th>SUBJECT_ID</th>\n",
       "      <th>HADM_ID</th>\n",
       "      <th>DRG_TYPE</th>\n",
       "      <th>DRG_CODE</th>\n",
       "      <th>DESCRIPTION</th>\n",
       "      <th>DRG_SEVERITY</th>\n",
       "      <th>DRG_MORTALITY</th>\n",
       "    </tr>\n",
       "  </thead>\n",
       "  <tbody>\n",
       "    <tr>\n",
       "      <th>0</th>\n",
       "      <td>342</td>\n",
       "      <td>2491</td>\n",
       "      <td>144486</td>\n",
       "      <td>HCFA</td>\n",
       "      <td>28</td>\n",
       "      <td>TRAUMATIC STUPOR &amp; COMA, COMA &lt;1 HR AGE &gt;17 WI...</td>\n",
       "      <td>NaN</td>\n",
       "      <td>NaN</td>\n",
       "    </tr>\n",
       "    <tr>\n",
       "      <th>1</th>\n",
       "      <td>343</td>\n",
       "      <td>24958</td>\n",
       "      <td>162910</td>\n",
       "      <td>HCFA</td>\n",
       "      <td>110</td>\n",
       "      <td>MAJOR CARDIOVASCULAR PROCEDURES WITH COMPLICAT...</td>\n",
       "      <td>NaN</td>\n",
       "      <td>NaN</td>\n",
       "    </tr>\n",
       "    <tr>\n",
       "      <th>2</th>\n",
       "      <td>344</td>\n",
       "      <td>18325</td>\n",
       "      <td>153751</td>\n",
       "      <td>HCFA</td>\n",
       "      <td>390</td>\n",
       "      <td>NEONATE WITH OTHER SIGNIFICANT PROBLEMS</td>\n",
       "      <td>NaN</td>\n",
       "      <td>NaN</td>\n",
       "    </tr>\n",
       "    <tr>\n",
       "      <th>3</th>\n",
       "      <td>345</td>\n",
       "      <td>17887</td>\n",
       "      <td>182692</td>\n",
       "      <td>HCFA</td>\n",
       "      <td>14</td>\n",
       "      <td>SPECIFIC CEREBROVASCULAR DISORDERS EXCEPT TRAN...</td>\n",
       "      <td>NaN</td>\n",
       "      <td>NaN</td>\n",
       "    </tr>\n",
       "    <tr>\n",
       "      <th>4</th>\n",
       "      <td>346</td>\n",
       "      <td>11113</td>\n",
       "      <td>157980</td>\n",
       "      <td>HCFA</td>\n",
       "      <td>390</td>\n",
       "      <td>NEONATE WITH OTHER SIGNIFICANT PROBLEMS</td>\n",
       "      <td>NaN</td>\n",
       "      <td>NaN</td>\n",
       "    </tr>\n",
       "  </tbody>\n",
       "</table>\n",
       "</div>"
      ],
      "text/plain": [
       "   ROW_ID  SUBJECT_ID  HADM_ID DRG_TYPE  DRG_CODE  \\\n",
       "0     342        2491   144486     HCFA        28   \n",
       "1     343       24958   162910     HCFA       110   \n",
       "2     344       18325   153751     HCFA       390   \n",
       "3     345       17887   182692     HCFA        14   \n",
       "4     346       11113   157980     HCFA       390   \n",
       "\n",
       "                                         DESCRIPTION  DRG_SEVERITY  \\\n",
       "0  TRAUMATIC STUPOR & COMA, COMA <1 HR AGE >17 WI...           NaN   \n",
       "1  MAJOR CARDIOVASCULAR PROCEDURES WITH COMPLICAT...           NaN   \n",
       "2            NEONATE WITH OTHER SIGNIFICANT PROBLEMS           NaN   \n",
       "3  SPECIFIC CEREBROVASCULAR DISORDERS EXCEPT TRAN...           NaN   \n",
       "4            NEONATE WITH OTHER SIGNIFICANT PROBLEMS           NaN   \n",
       "\n",
       "   DRG_MORTALITY  \n",
       "0            NaN  \n",
       "1            NaN  \n",
       "2            NaN  \n",
       "3            NaN  \n",
       "4            NaN  "
      ]
     },
     "execution_count": 30,
     "metadata": {},
     "output_type": "execute_result"
    }
   ],
   "source": [
    "drgcodes = pd.read_csv(\"drgcodes.csv\")#This is an important table as it gives patients drug treatment\n",
    "drgcodes.head()"
   ]
  },
  {
   "cell_type": "code",
   "execution_count": 31,
   "metadata": {
    "collapsed": false
   },
   "outputs": [
    {
     "data": {
      "text/html": [
       "<div>\n",
       "<table border=\"1\" class=\"dataframe\">\n",
       "  <thead>\n",
       "    <tr style=\"text-align: right;\">\n",
       "      <th></th>\n",
       "      <th>ROW_ID</th>\n",
       "      <th>SUBJECT_ID</th>\n",
       "      <th>HADM_ID</th>\n",
       "      <th>ICUSTAY_ID</th>\n",
       "      <th>DBSOURCE</th>\n",
       "      <th>FIRST_CAREUNIT</th>\n",
       "      <th>LAST_CAREUNIT</th>\n",
       "      <th>FIRST_WARDID</th>\n",
       "      <th>LAST_WARDID</th>\n",
       "      <th>INTIME</th>\n",
       "      <th>OUTTIME</th>\n",
       "      <th>LOS</th>\n",
       "    </tr>\n",
       "  </thead>\n",
       "  <tbody>\n",
       "    <tr>\n",
       "      <th>0</th>\n",
       "      <td>365</td>\n",
       "      <td>268</td>\n",
       "      <td>110404</td>\n",
       "      <td>280836</td>\n",
       "      <td>carevue</td>\n",
       "      <td>MICU</td>\n",
       "      <td>MICU</td>\n",
       "      <td>52</td>\n",
       "      <td>52</td>\n",
       "      <td>2198-02-14 23:27:38</td>\n",
       "      <td>2198-02-18 05:26:11</td>\n",
       "      <td>3.2490</td>\n",
       "    </tr>\n",
       "    <tr>\n",
       "      <th>1</th>\n",
       "      <td>366</td>\n",
       "      <td>269</td>\n",
       "      <td>106296</td>\n",
       "      <td>206613</td>\n",
       "      <td>carevue</td>\n",
       "      <td>MICU</td>\n",
       "      <td>MICU</td>\n",
       "      <td>52</td>\n",
       "      <td>52</td>\n",
       "      <td>2170-11-05 11:05:29</td>\n",
       "      <td>2170-11-08 17:46:57</td>\n",
       "      <td>3.2788</td>\n",
       "    </tr>\n",
       "    <tr>\n",
       "      <th>2</th>\n",
       "      <td>367</td>\n",
       "      <td>270</td>\n",
       "      <td>188028</td>\n",
       "      <td>220345</td>\n",
       "      <td>carevue</td>\n",
       "      <td>CCU</td>\n",
       "      <td>CCU</td>\n",
       "      <td>57</td>\n",
       "      <td>57</td>\n",
       "      <td>2128-06-24 15:05:20</td>\n",
       "      <td>2128-06-27 12:32:29</td>\n",
       "      <td>2.8939</td>\n",
       "    </tr>\n",
       "    <tr>\n",
       "      <th>3</th>\n",
       "      <td>368</td>\n",
       "      <td>271</td>\n",
       "      <td>173727</td>\n",
       "      <td>249196</td>\n",
       "      <td>carevue</td>\n",
       "      <td>MICU</td>\n",
       "      <td>SICU</td>\n",
       "      <td>52</td>\n",
       "      <td>23</td>\n",
       "      <td>2120-08-07 23:12:42</td>\n",
       "      <td>2120-08-10 00:39:04</td>\n",
       "      <td>2.0600</td>\n",
       "    </tr>\n",
       "    <tr>\n",
       "      <th>4</th>\n",
       "      <td>369</td>\n",
       "      <td>272</td>\n",
       "      <td>164716</td>\n",
       "      <td>210407</td>\n",
       "      <td>carevue</td>\n",
       "      <td>CCU</td>\n",
       "      <td>CCU</td>\n",
       "      <td>57</td>\n",
       "      <td>57</td>\n",
       "      <td>2186-12-25 21:08:04</td>\n",
       "      <td>2186-12-27 12:01:13</td>\n",
       "      <td>1.6202</td>\n",
       "    </tr>\n",
       "  </tbody>\n",
       "</table>\n",
       "</div>"
      ],
      "text/plain": [
       "   ROW_ID  SUBJECT_ID  HADM_ID  ICUSTAY_ID DBSOURCE FIRST_CAREUNIT  \\\n",
       "0     365         268   110404      280836  carevue           MICU   \n",
       "1     366         269   106296      206613  carevue           MICU   \n",
       "2     367         270   188028      220345  carevue            CCU   \n",
       "3     368         271   173727      249196  carevue           MICU   \n",
       "4     369         272   164716      210407  carevue            CCU   \n",
       "\n",
       "  LAST_CAREUNIT  FIRST_WARDID  LAST_WARDID               INTIME  \\\n",
       "0          MICU            52           52  2198-02-14 23:27:38   \n",
       "1          MICU            52           52  2170-11-05 11:05:29   \n",
       "2           CCU            57           57  2128-06-24 15:05:20   \n",
       "3          SICU            52           23  2120-08-07 23:12:42   \n",
       "4           CCU            57           57  2186-12-25 21:08:04   \n",
       "\n",
       "               OUTTIME     LOS  \n",
       "0  2198-02-18 05:26:11  3.2490  \n",
       "1  2170-11-08 17:46:57  3.2788  \n",
       "2  2128-06-27 12:32:29  2.8939  \n",
       "3  2120-08-10 00:39:04  2.0600  \n",
       "4  2186-12-27 12:01:13  1.6202  "
      ]
     },
     "execution_count": 31,
     "metadata": {},
     "output_type": "execute_result"
    }
   ],
   "source": [
    "ICUSTAYS = pd.read_csv(\"ICUSTAYS.csv\") # Seems like \n",
    "ICUSTAYS.head()"
   ]
  },
  {
   "cell_type": "code",
   "execution_count": 32,
   "metadata": {
    "collapsed": true
   },
   "outputs": [],
   "source": [
    "stroke_patients_ICUSTAY = pd.merge(stroke_patients, ICUSTAYS, on = ['SUBJECT_ID'], how = 'inner')#joined "
   ]
  },
  {
   "cell_type": "code",
   "execution_count": 33,
   "metadata": {
    "collapsed": false
   },
   "outputs": [
    {
     "data": {
      "text/plain": [
       "Index([u'ROW_ID_x', u'SUBJECT_ID', u'HADM_ID_x', u'ADMITTIME', u'DISCHTIME',\n",
       "       u'DEATHTIME', u'ADMISSION_TYPE', u'ADMISSION_LOCATION',\n",
       "       u'DISCHARGE_LOCATION', u'INSURANCE', u'LANGUAGE', u'RELIGION',\n",
       "       u'MARITAL_STATUS', u'ETHNICITY', u'EDREGTIME', u'EDOUTTIME',\n",
       "       u'DIAGNOSIS', u'HOSPITAL_EXPIRE_FLAG', u'HAS_CHARTEVENTS_DATA',\n",
       "       u'is_stroke', u'ROW_ID_y', u'SEQ_NUM', u'ICD9_CODE', u'ROW_ID_x',\n",
       "       u'GENDER', u'DOB', u'DOD', u'DOD_HOSP', u'DOD_SSN', u'EXPIRE_FLAG',\n",
       "       u'ROW_ID_y', u'HADM_ID_y', u'ICUSTAY_ID', u'DBSOURCE',\n",
       "       u'FIRST_CAREUNIT', u'LAST_CAREUNIT', u'FIRST_WARDID', u'LAST_WARDID',\n",
       "       u'INTIME', u'OUTTIME', u'LOS'],\n",
       "      dtype='object')"
      ]
     },
     "execution_count": 33,
     "metadata": {},
     "output_type": "execute_result"
    }
   ],
   "source": [
    "stroke_patients_ICUSTAY.columns"
   ]
  },
  {
   "cell_type": "markdown",
   "metadata": {},
   "source": [
    "There are patients who has been hospitalized multiple time!"
   ]
  },
  {
   "cell_type": "code",
   "execution_count": 34,
   "metadata": {
    "collapsed": true
   },
   "outputs": [],
   "source": [
    "stroke_patients_ICUSTAY.to_pickle(\"stroke_patient_ICUSTAY.pkl\")"
   ]
  },
  {
   "cell_type": "code",
   "execution_count": 35,
   "metadata": {
    "collapsed": true
   },
   "outputs": [],
   "source": [
    "import datetime as dt\n",
    "patients = pd.read_pickle(\"stroke_patient_ICUSTAY.pkl\")"
   ]
  },
  {
   "cell_type": "code",
   "execution_count": 36,
   "metadata": {
    "collapsed": false
   },
   "outputs": [
    {
     "data": {
      "text/plain": [
       "Index([u'ROW_ID_x', u'SUBJECT_ID', u'HADM_ID_x', u'ADMITTIME', u'DISCHTIME',\n",
       "       u'DEATHTIME', u'ADMISSION_TYPE', u'ADMISSION_LOCATION',\n",
       "       u'DISCHARGE_LOCATION', u'INSURANCE', u'LANGUAGE', u'RELIGION',\n",
       "       u'MARITAL_STATUS', u'ETHNICITY', u'EDREGTIME', u'EDOUTTIME',\n",
       "       u'DIAGNOSIS', u'HOSPITAL_EXPIRE_FLAG', u'HAS_CHARTEVENTS_DATA',\n",
       "       u'is_stroke', u'ROW_ID_y', u'SEQ_NUM', u'ICD9_CODE', u'ROW_ID_x',\n",
       "       u'GENDER', u'DOB', u'DOD', u'DOD_HOSP', u'DOD_SSN', u'EXPIRE_FLAG',\n",
       "       u'ROW_ID_y', u'HADM_ID_y', u'ICUSTAY_ID', u'DBSOURCE',\n",
       "       u'FIRST_CAREUNIT', u'LAST_CAREUNIT', u'FIRST_WARDID', u'LAST_WARDID',\n",
       "       u'INTIME', u'OUTTIME', u'LOS'],\n",
       "      dtype='object')"
      ]
     },
     "execution_count": 36,
     "metadata": {},
     "output_type": "execute_result"
    }
   ],
   "source": [
    "patients.columns"
   ]
  },
  {
   "cell_type": "code",
   "execution_count": 37,
   "metadata": {
    "collapsed": true
   },
   "outputs": [],
   "source": [
    "patients['AGE'] = (pd.to_datetime(patients['ADMITTIME'])-\n",
    "                   pd.to_datetime(patients['DOB'])).apply(lambda x: round(x.days/365.25))"
   ]
  },
  {
   "cell_type": "code",
   "execution_count": 38,
   "metadata": {
    "collapsed": false
   },
   "outputs": [
    {
     "data": {
      "text/html": [
       "<div>\n",
       "<table border=\"1\" class=\"dataframe\">\n",
       "  <thead>\n",
       "    <tr style=\"text-align: right;\">\n",
       "      <th></th>\n",
       "      <th>ROW_ID_x</th>\n",
       "      <th>SUBJECT_ID</th>\n",
       "      <th>HADM_ID_x</th>\n",
       "      <th>ADMITTIME</th>\n",
       "      <th>DISCHTIME</th>\n",
       "      <th>DEATHTIME</th>\n",
       "      <th>ADMISSION_TYPE</th>\n",
       "      <th>ADMISSION_LOCATION</th>\n",
       "      <th>DISCHARGE_LOCATION</th>\n",
       "      <th>INSURANCE</th>\n",
       "      <th>...</th>\n",
       "      <th>ICUSTAY_ID</th>\n",
       "      <th>DBSOURCE</th>\n",
       "      <th>FIRST_CAREUNIT</th>\n",
       "      <th>LAST_CAREUNIT</th>\n",
       "      <th>FIRST_WARDID</th>\n",
       "      <th>LAST_WARDID</th>\n",
       "      <th>INTIME</th>\n",
       "      <th>OUTTIME</th>\n",
       "      <th>LOS</th>\n",
       "      <th>AGE</th>\n",
       "    </tr>\n",
       "  </thead>\n",
       "  <tbody>\n",
       "    <tr>\n",
       "      <th>0</th>\n",
       "      <td>190</td>\n",
       "      <td>141</td>\n",
       "      <td>168006</td>\n",
       "      <td>2140-11-06 11:07:00</td>\n",
       "      <td>2140-11-09 20:36:00</td>\n",
       "      <td>2140-11-09 20:36:00</td>\n",
       "      <td>EMERGENCY</td>\n",
       "      <td>EMERGENCY ROOM ADMIT</td>\n",
       "      <td>DEAD/EXPIRED</td>\n",
       "      <td>Medicare</td>\n",
       "      <td>...</td>\n",
       "      <td>234668</td>\n",
       "      <td>carevue</td>\n",
       "      <td>MICU</td>\n",
       "      <td>MICU</td>\n",
       "      <td>12</td>\n",
       "      <td>12</td>\n",
       "      <td>2140-11-06 11:09:19</td>\n",
       "      <td>2140-11-09 22:35:29</td>\n",
       "      <td>3.4765</td>\n",
       "      <td>81.0</td>\n",
       "    </tr>\n",
       "    <tr>\n",
       "      <th>1</th>\n",
       "      <td>394</td>\n",
       "      <td>308</td>\n",
       "      <td>166606</td>\n",
       "      <td>2135-09-02 23:07:00</td>\n",
       "      <td>2135-10-20 11:53:00</td>\n",
       "      <td>NaN</td>\n",
       "      <td>EMERGENCY</td>\n",
       "      <td>EMERGENCY ROOM ADMIT</td>\n",
       "      <td>DISC-TRAN CANCER/CHLDRN H</td>\n",
       "      <td>Medicaid</td>\n",
       "      <td>...</td>\n",
       "      <td>283522</td>\n",
       "      <td>carevue</td>\n",
       "      <td>CCU</td>\n",
       "      <td>CCU</td>\n",
       "      <td>57</td>\n",
       "      <td>57</td>\n",
       "      <td>2135-09-04 12:54:00</td>\n",
       "      <td>2135-09-30 16:35:00</td>\n",
       "      <td>26.1535</td>\n",
       "      <td>30.0</td>\n",
       "    </tr>\n",
       "    <tr>\n",
       "      <th>2</th>\n",
       "      <td>398</td>\n",
       "      <td>313</td>\n",
       "      <td>199765</td>\n",
       "      <td>2139-07-26 16:43:00</td>\n",
       "      <td>2139-08-09 15:30:00</td>\n",
       "      <td>NaN</td>\n",
       "      <td>EMERGENCY</td>\n",
       "      <td>EMERGENCY ROOM ADMIT</td>\n",
       "      <td>LONG TERM CARE HOSPITAL</td>\n",
       "      <td>Medicare</td>\n",
       "      <td>...</td>\n",
       "      <td>261824</td>\n",
       "      <td>carevue</td>\n",
       "      <td>TSICU</td>\n",
       "      <td>TSICU</td>\n",
       "      <td>33</td>\n",
       "      <td>33</td>\n",
       "      <td>2139-07-26 16:46:02</td>\n",
       "      <td>2139-07-31 21:01:04</td>\n",
       "      <td>5.1771</td>\n",
       "      <td>79.0</td>\n",
       "    </tr>\n",
       "    <tr>\n",
       "      <th>3</th>\n",
       "      <td>421</td>\n",
       "      <td>330</td>\n",
       "      <td>197569</td>\n",
       "      <td>2133-02-27 12:30:00</td>\n",
       "      <td>2133-03-24 17:00:00</td>\n",
       "      <td>NaN</td>\n",
       "      <td>ELECTIVE</td>\n",
       "      <td>PHYS REFERRAL/NORMAL DELI</td>\n",
       "      <td>SNF</td>\n",
       "      <td>Private</td>\n",
       "      <td>...</td>\n",
       "      <td>297996</td>\n",
       "      <td>carevue</td>\n",
       "      <td>SICU</td>\n",
       "      <td>SICU</td>\n",
       "      <td>57</td>\n",
       "      <td>57</td>\n",
       "      <td>2133-02-27 17:16:41</td>\n",
       "      <td>2133-03-09 16:57:21</td>\n",
       "      <td>9.9866</td>\n",
       "      <td>68.0</td>\n",
       "    </tr>\n",
       "    <tr>\n",
       "      <th>4</th>\n",
       "      <td>445</td>\n",
       "      <td>352</td>\n",
       "      <td>121050</td>\n",
       "      <td>2144-05-17 15:47:00</td>\n",
       "      <td>2144-05-21 11:15:00</td>\n",
       "      <td>NaN</td>\n",
       "      <td>EMERGENCY</td>\n",
       "      <td>EMERGENCY ROOM ADMIT</td>\n",
       "      <td>SNF</td>\n",
       "      <td>Medicare</td>\n",
       "      <td>...</td>\n",
       "      <td>295983</td>\n",
       "      <td>carevue</td>\n",
       "      <td>MICU</td>\n",
       "      <td>MICU</td>\n",
       "      <td>15</td>\n",
       "      <td>15</td>\n",
       "      <td>2144-05-17 15:48:37</td>\n",
       "      <td>2144-05-18 15:02:05</td>\n",
       "      <td>0.9677</td>\n",
       "      <td>75.0</td>\n",
       "    </tr>\n",
       "  </tbody>\n",
       "</table>\n",
       "<p>5 rows × 42 columns</p>\n",
       "</div>"
      ],
      "text/plain": [
       "   ROW_ID_x  SUBJECT_ID  HADM_ID_x            ADMITTIME            DISCHTIME  \\\n",
       "0       190         141     168006  2140-11-06 11:07:00  2140-11-09 20:36:00   \n",
       "1       394         308     166606  2135-09-02 23:07:00  2135-10-20 11:53:00   \n",
       "2       398         313     199765  2139-07-26 16:43:00  2139-08-09 15:30:00   \n",
       "3       421         330     197569  2133-02-27 12:30:00  2133-03-24 17:00:00   \n",
       "4       445         352     121050  2144-05-17 15:47:00  2144-05-21 11:15:00   \n",
       "\n",
       "             DEATHTIME ADMISSION_TYPE         ADMISSION_LOCATION  \\\n",
       "0  2140-11-09 20:36:00      EMERGENCY       EMERGENCY ROOM ADMIT   \n",
       "1                  NaN      EMERGENCY       EMERGENCY ROOM ADMIT   \n",
       "2                  NaN      EMERGENCY       EMERGENCY ROOM ADMIT   \n",
       "3                  NaN       ELECTIVE  PHYS REFERRAL/NORMAL DELI   \n",
       "4                  NaN      EMERGENCY       EMERGENCY ROOM ADMIT   \n",
       "\n",
       "          DISCHARGE_LOCATION INSURANCE  ...  ICUSTAY_ID DBSOURCE  \\\n",
       "0               DEAD/EXPIRED  Medicare  ...      234668  carevue   \n",
       "1  DISC-TRAN CANCER/CHLDRN H  Medicaid  ...      283522  carevue   \n",
       "2    LONG TERM CARE HOSPITAL  Medicare  ...      261824  carevue   \n",
       "3                        SNF   Private  ...      297996  carevue   \n",
       "4                        SNF  Medicare  ...      295983  carevue   \n",
       "\n",
       "  FIRST_CAREUNIT LAST_CAREUNIT FIRST_WARDID LAST_WARDID               INTIME  \\\n",
       "0           MICU          MICU           12          12  2140-11-06 11:09:19   \n",
       "1            CCU           CCU           57          57  2135-09-04 12:54:00   \n",
       "2          TSICU         TSICU           33          33  2139-07-26 16:46:02   \n",
       "3           SICU          SICU           57          57  2133-02-27 17:16:41   \n",
       "4           MICU          MICU           15          15  2144-05-17 15:48:37   \n",
       "\n",
       "               OUTTIME      LOS   AGE  \n",
       "0  2140-11-09 22:35:29   3.4765  81.0  \n",
       "1  2135-09-30 16:35:00  26.1535  30.0  \n",
       "2  2139-07-31 21:01:04   5.1771  79.0  \n",
       "3  2133-03-09 16:57:21   9.9866  68.0  \n",
       "4  2144-05-18 15:02:05   0.9677  75.0  \n",
       "\n",
       "[5 rows x 42 columns]"
      ]
     },
     "execution_count": 38,
     "metadata": {},
     "output_type": "execute_result"
    }
   ],
   "source": [
    "patients.head()"
   ]
  },
  {
   "cell_type": "code",
   "execution_count": 39,
   "metadata": {
    "collapsed": false
   },
   "outputs": [
    {
     "data": {
      "text/plain": [
       "Index([u'ROW_ID_x', u'SUBJECT_ID', u'HADM_ID_x', u'ADMITTIME', u'DISCHTIME',\n",
       "       u'DEATHTIME', u'ADMISSION_TYPE', u'ADMISSION_LOCATION',\n",
       "       u'DISCHARGE_LOCATION', u'INSURANCE', u'LANGUAGE', u'RELIGION',\n",
       "       u'MARITAL_STATUS', u'ETHNICITY', u'EDREGTIME', u'EDOUTTIME',\n",
       "       u'DIAGNOSIS', u'HOSPITAL_EXPIRE_FLAG', u'HAS_CHARTEVENTS_DATA',\n",
       "       u'is_stroke', u'ROW_ID_y', u'SEQ_NUM', u'ICD9_CODE', u'ROW_ID_x',\n",
       "       u'GENDER', u'DOB', u'DOD', u'DOD_HOSP', u'DOD_SSN', u'EXPIRE_FLAG',\n",
       "       u'ROW_ID_y', u'HADM_ID_y', u'ICUSTAY_ID', u'DBSOURCE',\n",
       "       u'FIRST_CAREUNIT', u'LAST_CAREUNIT', u'FIRST_WARDID', u'LAST_WARDID',\n",
       "       u'INTIME', u'OUTTIME', u'LOS', u'AGE'],\n",
       "      dtype='object')"
      ]
     },
     "execution_count": 39,
     "metadata": {},
     "output_type": "execute_result"
    }
   ],
   "source": [
    "patients.columns"
   ]
  },
  {
   "cell_type": "markdown",
   "metadata": {},
   "source": [
    "#choose some features\n",
    "SUBJECT_ID,HADM_ID_x, Age, ADMISSION_TYPE, Gender, Insurance, LAGUAGE, RELOGION, ICD9_code, FIRST_CAREUNIT, LAST_CAREUNIT, DOD\n",
    "#outcome\n",
    "DISCHARGE_LOCATION\n",
    "LOS"
   ]
  },
  {
   "cell_type": "code",
   "execution_count": 40,
   "metadata": {
    "collapsed": false
   },
   "outputs": [],
   "source": [
    "patients = patients[['SUBJECT_ID','HADM_ID_x', 'AGE','GENDER','ADMISSION_TYPE', 'INSURANCE', 'LANGUAGE', 'RELIGION', 'ICD9_CODE', 'FIRST_CAREUNIT','LAST_CAREUNIT', 'DOD','DISCHARGE_LOCATION', 'LOS']]"
   ]
  },
  {
   "cell_type": "code",
   "execution_count": 41,
   "metadata": {
    "collapsed": false
   },
   "outputs": [
    {
     "data": {
      "text/plain": [
       "REHAB/DISTINCT PART HOSP     837\n",
       "DEAD/EXPIRED                 465\n",
       "SNF                          312\n",
       "HOME HEALTH CARE             244\n",
       "LONG TERM CARE HOSPITAL      233\n",
       "HOME                         157\n",
       "HOSPICE-MEDICAL FACILITY      31\n",
       "SHORT TERM HOSPITAL           23\n",
       "DISC-TRAN CANCER/CHLDRN H     19\n",
       "HOSPICE-HOME                  14\n",
       "LEFT AGAINST MEDICAL ADVI      4\n",
       "DISCH-TRAN TO PSYCH HOSP       3\n",
       "HOME WITH HOME IV PROVIDR      2\n",
       "Name: DISCHARGE_LOCATION, dtype: int64"
      ]
     },
     "execution_count": 41,
     "metadata": {},
     "output_type": "execute_result"
    }
   ],
   "source": [
    "patients.DISCHARGE_LOCATION.value_counts()"
   ]
  },
  {
   "cell_type": "code",
   "execution_count": 42,
   "metadata": {
    "collapsed": true
   },
   "outputs": [],
   "source": [
    "patients.index = range(2344)\n",
    "outcome =  ['REHAB/DISTINCT PART HOSP','DEAD/EXPIRED', 'SNF','HOME','HOME HEALTH CARE', 'LONG TERM CARE HOSPITAL']\n",
    "for row in range(patients.shape[0]):\n",
    "    if patients.loc[row]['DISCHARGE_LOCATION'] not in outcome:\n",
    "        patients = patients.drop(row)"
   ]
  },
  {
   "cell_type": "code",
   "execution_count": 43,
   "metadata": {
    "collapsed": false
   },
   "outputs": [
    {
     "data": {
      "text/plain": [
       "REHAB/DISTINCT PART HOSP    837\n",
       "DEAD/EXPIRED                465\n",
       "SNF                         312\n",
       "HOME HEALTH CARE            244\n",
       "LONG TERM CARE HOSPITAL     233\n",
       "HOME                        157\n",
       "Name: DISCHARGE_LOCATION, dtype: int64"
      ]
     },
     "execution_count": 43,
     "metadata": {},
     "output_type": "execute_result"
    }
   ],
   "source": [
    "patients.DISCHARGE_LOCATION.value_counts()"
   ]
  },
  {
   "cell_type": "code",
   "execution_count": 44,
   "metadata": {
    "collapsed": true
   },
   "outputs": [],
   "source": [
    "patients.to_pickle(\"patients.pkl\")"
   ]
  },
  {
   "cell_type": "code",
   "execution_count": 45,
   "metadata": {
    "collapsed": true
   },
   "outputs": [],
   "source": [
    "careunit = patients[patients.FIRST_CAREUNIT!=patients.LAST_CAREUNIT]"
   ]
  },
  {
   "cell_type": "code",
   "execution_count": 46,
   "metadata": {
    "collapsed": false
   },
   "outputs": [
    {
     "data": {
      "text/plain": [
       "REHAB/DISTINCT PART HOSP    87\n",
       "DEAD/EXPIRED                47\n",
       "LONG TERM CARE HOSPITAL     24\n",
       "SNF                         21\n",
       "HOME HEALTH CARE            15\n",
       "HOME                        12\n",
       "Name: DISCHARGE_LOCATION, dtype: int64"
      ]
     },
     "execution_count": 46,
     "metadata": {},
     "output_type": "execute_result"
    }
   ],
   "source": [
    "careunit.DISCHARGE_LOCATION.value_counts()"
   ]
  },
  {
   "cell_type": "code",
   "execution_count": 81,
   "metadata": {
    "collapsed": false
   },
   "outputs": [
    {
     "data": {
      "text/html": [
       "<div>\n",
       "<style>\n",
       "    .dataframe thead tr:only-child th {\n",
       "        text-align: right;\n",
       "    }\n",
       "\n",
       "    .dataframe thead th {\n",
       "        text-align: left;\n",
       "    }\n",
       "\n",
       "    .dataframe tbody tr th {\n",
       "        vertical-align: top;\n",
       "    }\n",
       "</style>\n",
       "<table border=\"1\" class=\"dataframe\">\n",
       "  <thead>\n",
       "    <tr style=\"text-align: right;\">\n",
       "      <th></th>\n",
       "      <th>SUBJECT_ID</th>\n",
       "      <th>HADM_ID_x</th>\n",
       "      <th>AGE</th>\n",
       "      <th>GENDER</th>\n",
       "      <th>ADMISSION_TYPE</th>\n",
       "      <th>INSURANCE</th>\n",
       "      <th>LANGUAGE</th>\n",
       "      <th>RELIGION</th>\n",
       "      <th>ICD9_CODE</th>\n",
       "      <th>FIRST_CAREUNIT</th>\n",
       "      <th>LAST_CAREUNIT</th>\n",
       "      <th>DOD</th>\n",
       "      <th>DISCHARGE_LOCATION</th>\n",
       "      <th>LOS</th>\n",
       "    </tr>\n",
       "  </thead>\n",
       "  <tbody>\n",
       "    <tr>\n",
       "      <th>SUBJECT_ID</th>\n",
       "      <td>1.000000</td>\n",
       "      <td>0.999996</td>\n",
       "      <td>0.125193</td>\n",
       "      <td>0.011255</td>\n",
       "      <td>-0.010290</td>\n",
       "      <td>0.096723</td>\n",
       "      <td>0.136839</td>\n",
       "      <td>0.137539</td>\n",
       "      <td>0.065686</td>\n",
       "      <td>0.035963</td>\n",
       "      <td>0.044264</td>\n",
       "      <td>0.319157</td>\n",
       "      <td>-0.011008</td>\n",
       "      <td>0.982012</td>\n",
       "    </tr>\n",
       "    <tr>\n",
       "      <th>HADM_ID_x</th>\n",
       "      <td>0.999996</td>\n",
       "      <td>1.000000</td>\n",
       "      <td>0.125415</td>\n",
       "      <td>0.011365</td>\n",
       "      <td>-0.010294</td>\n",
       "      <td>0.096800</td>\n",
       "      <td>0.136930</td>\n",
       "      <td>0.137659</td>\n",
       "      <td>0.065739</td>\n",
       "      <td>0.035990</td>\n",
       "      <td>0.044227</td>\n",
       "      <td>0.319206</td>\n",
       "      <td>-0.010983</td>\n",
       "      <td>0.982119</td>\n",
       "    </tr>\n",
       "    <tr>\n",
       "      <th>AGE</th>\n",
       "      <td>0.125193</td>\n",
       "      <td>0.125415</td>\n",
       "      <td>1.000000</td>\n",
       "      <td>-0.028882</td>\n",
       "      <td>-0.030121</td>\n",
       "      <td>0.300911</td>\n",
       "      <td>-0.008892</td>\n",
       "      <td>0.008115</td>\n",
       "      <td>0.051985</td>\n",
       "      <td>0.042763</td>\n",
       "      <td>0.036457</td>\n",
       "      <td>-0.052304</td>\n",
       "      <td>0.080147</td>\n",
       "      <td>0.123299</td>\n",
       "    </tr>\n",
       "    <tr>\n",
       "      <th>GENDER</th>\n",
       "      <td>0.011255</td>\n",
       "      <td>0.011365</td>\n",
       "      <td>-0.028882</td>\n",
       "      <td>1.000000</td>\n",
       "      <td>0.000873</td>\n",
       "      <td>-0.062114</td>\n",
       "      <td>-0.038230</td>\n",
       "      <td>0.056191</td>\n",
       "      <td>0.005390</td>\n",
       "      <td>-0.059358</td>\n",
       "      <td>-0.056733</td>\n",
       "      <td>0.009765</td>\n",
       "      <td>-0.046077</td>\n",
       "      <td>0.008954</td>\n",
       "    </tr>\n",
       "    <tr>\n",
       "      <th>ADMISSION_TYPE</th>\n",
       "      <td>-0.010290</td>\n",
       "      <td>-0.010294</td>\n",
       "      <td>-0.030121</td>\n",
       "      <td>0.000873</td>\n",
       "      <td>1.000000</td>\n",
       "      <td>0.002820</td>\n",
       "      <td>-0.050051</td>\n",
       "      <td>0.032749</td>\n",
       "      <td>0.066050</td>\n",
       "      <td>0.144704</td>\n",
       "      <td>0.144417</td>\n",
       "      <td>-0.055759</td>\n",
       "      <td>0.039630</td>\n",
       "      <td>-0.006173</td>\n",
       "    </tr>\n",
       "    <tr>\n",
       "      <th>INSURANCE</th>\n",
       "      <td>0.096723</td>\n",
       "      <td>0.096800</td>\n",
       "      <td>0.300911</td>\n",
       "      <td>-0.062114</td>\n",
       "      <td>0.002820</td>\n",
       "      <td>1.000000</td>\n",
       "      <td>0.084975</td>\n",
       "      <td>0.058743</td>\n",
       "      <td>0.073194</td>\n",
       "      <td>0.026755</td>\n",
       "      <td>0.028022</td>\n",
       "      <td>-0.176085</td>\n",
       "      <td>0.159140</td>\n",
       "      <td>0.092332</td>\n",
       "    </tr>\n",
       "    <tr>\n",
       "      <th>LANGUAGE</th>\n",
       "      <td>0.136839</td>\n",
       "      <td>0.136930</td>\n",
       "      <td>-0.008892</td>\n",
       "      <td>-0.038230</td>\n",
       "      <td>-0.050051</td>\n",
       "      <td>0.084975</td>\n",
       "      <td>1.000000</td>\n",
       "      <td>0.151076</td>\n",
       "      <td>-0.007786</td>\n",
       "      <td>0.024732</td>\n",
       "      <td>0.012050</td>\n",
       "      <td>0.012128</td>\n",
       "      <td>0.028678</td>\n",
       "      <td>0.138104</td>\n",
       "    </tr>\n",
       "    <tr>\n",
       "      <th>RELIGION</th>\n",
       "      <td>0.137539</td>\n",
       "      <td>0.137659</td>\n",
       "      <td>0.008115</td>\n",
       "      <td>0.056191</td>\n",
       "      <td>0.032749</td>\n",
       "      <td>0.058743</td>\n",
       "      <td>0.151076</td>\n",
       "      <td>1.000000</td>\n",
       "      <td>0.033400</td>\n",
       "      <td>-0.002389</td>\n",
       "      <td>0.006588</td>\n",
       "      <td>-0.022718</td>\n",
       "      <td>0.053810</td>\n",
       "      <td>0.136563</td>\n",
       "    </tr>\n",
       "    <tr>\n",
       "      <th>ICD9_CODE</th>\n",
       "      <td>0.065686</td>\n",
       "      <td>0.065739</td>\n",
       "      <td>0.051985</td>\n",
       "      <td>0.005390</td>\n",
       "      <td>0.066050</td>\n",
       "      <td>0.073194</td>\n",
       "      <td>-0.007786</td>\n",
       "      <td>0.033400</td>\n",
       "      <td>1.000000</td>\n",
       "      <td>0.062036</td>\n",
       "      <td>0.059545</td>\n",
       "      <td>-0.002825</td>\n",
       "      <td>0.110272</td>\n",
       "      <td>0.067106</td>\n",
       "    </tr>\n",
       "    <tr>\n",
       "      <th>FIRST_CAREUNIT</th>\n",
       "      <td>0.035963</td>\n",
       "      <td>0.035990</td>\n",
       "      <td>0.042763</td>\n",
       "      <td>-0.059358</td>\n",
       "      <td>0.144704</td>\n",
       "      <td>0.026755</td>\n",
       "      <td>0.024732</td>\n",
       "      <td>-0.002389</td>\n",
       "      <td>0.062036</td>\n",
       "      <td>1.000000</td>\n",
       "      <td>0.863570</td>\n",
       "      <td>-0.106459</td>\n",
       "      <td>0.103879</td>\n",
       "      <td>0.032869</td>\n",
       "    </tr>\n",
       "    <tr>\n",
       "      <th>LAST_CAREUNIT</th>\n",
       "      <td>0.044264</td>\n",
       "      <td>0.044227</td>\n",
       "      <td>0.036457</td>\n",
       "      <td>-0.056733</td>\n",
       "      <td>0.144417</td>\n",
       "      <td>0.028022</td>\n",
       "      <td>0.012050</td>\n",
       "      <td>0.006588</td>\n",
       "      <td>0.059545</td>\n",
       "      <td>0.863570</td>\n",
       "      <td>1.000000</td>\n",
       "      <td>-0.117735</td>\n",
       "      <td>0.112529</td>\n",
       "      <td>0.040120</td>\n",
       "    </tr>\n",
       "    <tr>\n",
       "      <th>DOD</th>\n",
       "      <td>0.319157</td>\n",
       "      <td>0.319206</td>\n",
       "      <td>-0.052304</td>\n",
       "      <td>0.009765</td>\n",
       "      <td>-0.055759</td>\n",
       "      <td>-0.176085</td>\n",
       "      <td>0.012128</td>\n",
       "      <td>-0.022718</td>\n",
       "      <td>-0.002825</td>\n",
       "      <td>-0.106459</td>\n",
       "      <td>-0.117735</td>\n",
       "      <td>1.000000</td>\n",
       "      <td>-0.372336</td>\n",
       "      <td>0.330302</td>\n",
       "    </tr>\n",
       "    <tr>\n",
       "      <th>DISCHARGE_LOCATION</th>\n",
       "      <td>-0.011008</td>\n",
       "      <td>-0.010983</td>\n",
       "      <td>0.080147</td>\n",
       "      <td>-0.046077</td>\n",
       "      <td>0.039630</td>\n",
       "      <td>0.159140</td>\n",
       "      <td>0.028678</td>\n",
       "      <td>0.053810</td>\n",
       "      <td>0.110272</td>\n",
       "      <td>0.103879</td>\n",
       "      <td>0.112529</td>\n",
       "      <td>-0.372336</td>\n",
       "      <td>1.000000</td>\n",
       "      <td>-0.011429</td>\n",
       "    </tr>\n",
       "    <tr>\n",
       "      <th>LOS</th>\n",
       "      <td>0.982012</td>\n",
       "      <td>0.982119</td>\n",
       "      <td>0.123299</td>\n",
       "      <td>0.008954</td>\n",
       "      <td>-0.006173</td>\n",
       "      <td>0.092332</td>\n",
       "      <td>0.138104</td>\n",
       "      <td>0.136563</td>\n",
       "      <td>0.067106</td>\n",
       "      <td>0.032869</td>\n",
       "      <td>0.040120</td>\n",
       "      <td>0.330302</td>\n",
       "      <td>-0.011429</td>\n",
       "      <td>1.000000</td>\n",
       "    </tr>\n",
       "  </tbody>\n",
       "</table>\n",
       "</div>"
      ],
      "text/plain": [
       "                    SUBJECT_ID  HADM_ID_x       AGE    GENDER  ADMISSION_TYPE  \\\n",
       "SUBJECT_ID            1.000000   0.999996  0.125193  0.011255       -0.010290   \n",
       "HADM_ID_x             0.999996   1.000000  0.125415  0.011365       -0.010294   \n",
       "AGE                   0.125193   0.125415  1.000000 -0.028882       -0.030121   \n",
       "GENDER                0.011255   0.011365 -0.028882  1.000000        0.000873   \n",
       "ADMISSION_TYPE       -0.010290  -0.010294 -0.030121  0.000873        1.000000   \n",
       "INSURANCE             0.096723   0.096800  0.300911 -0.062114        0.002820   \n",
       "LANGUAGE              0.136839   0.136930 -0.008892 -0.038230       -0.050051   \n",
       "RELIGION              0.137539   0.137659  0.008115  0.056191        0.032749   \n",
       "ICD9_CODE             0.065686   0.065739  0.051985  0.005390        0.066050   \n",
       "FIRST_CAREUNIT        0.035963   0.035990  0.042763 -0.059358        0.144704   \n",
       "LAST_CAREUNIT         0.044264   0.044227  0.036457 -0.056733        0.144417   \n",
       "DOD                   0.319157   0.319206 -0.052304  0.009765       -0.055759   \n",
       "DISCHARGE_LOCATION   -0.011008  -0.010983  0.080147 -0.046077        0.039630   \n",
       "LOS                   0.982012   0.982119  0.123299  0.008954       -0.006173   \n",
       "\n",
       "                    INSURANCE  LANGUAGE  RELIGION  ICD9_CODE  FIRST_CAREUNIT  \\\n",
       "SUBJECT_ID           0.096723  0.136839  0.137539   0.065686        0.035963   \n",
       "HADM_ID_x            0.096800  0.136930  0.137659   0.065739        0.035990   \n",
       "AGE                  0.300911 -0.008892  0.008115   0.051985        0.042763   \n",
       "GENDER              -0.062114 -0.038230  0.056191   0.005390       -0.059358   \n",
       "ADMISSION_TYPE       0.002820 -0.050051  0.032749   0.066050        0.144704   \n",
       "INSURANCE            1.000000  0.084975  0.058743   0.073194        0.026755   \n",
       "LANGUAGE             0.084975  1.000000  0.151076  -0.007786        0.024732   \n",
       "RELIGION             0.058743  0.151076  1.000000   0.033400       -0.002389   \n",
       "ICD9_CODE            0.073194 -0.007786  0.033400   1.000000        0.062036   \n",
       "FIRST_CAREUNIT       0.026755  0.024732 -0.002389   0.062036        1.000000   \n",
       "LAST_CAREUNIT        0.028022  0.012050  0.006588   0.059545        0.863570   \n",
       "DOD                 -0.176085  0.012128 -0.022718  -0.002825       -0.106459   \n",
       "DISCHARGE_LOCATION   0.159140  0.028678  0.053810   0.110272        0.103879   \n",
       "LOS                  0.092332  0.138104  0.136563   0.067106        0.032869   \n",
       "\n",
       "                    LAST_CAREUNIT       DOD  DISCHARGE_LOCATION       LOS  \n",
       "SUBJECT_ID               0.044264  0.319157           -0.011008  0.982012  \n",
       "HADM_ID_x                0.044227  0.319206           -0.010983  0.982119  \n",
       "AGE                      0.036457 -0.052304            0.080147  0.123299  \n",
       "GENDER                  -0.056733  0.009765           -0.046077  0.008954  \n",
       "ADMISSION_TYPE           0.144417 -0.055759            0.039630 -0.006173  \n",
       "INSURANCE                0.028022 -0.176085            0.159140  0.092332  \n",
       "LANGUAGE                 0.012050  0.012128            0.028678  0.138104  \n",
       "RELIGION                 0.006588 -0.022718            0.053810  0.136563  \n",
       "ICD9_CODE                0.059545 -0.002825            0.110272  0.067106  \n",
       "FIRST_CAREUNIT           0.863570 -0.106459            0.103879  0.032869  \n",
       "LAST_CAREUNIT            1.000000 -0.117735            0.112529  0.040120  \n",
       "DOD                     -0.117735  1.000000           -0.372336  0.330302  \n",
       "DISCHARGE_LOCATION       0.112529 -0.372336            1.000000 -0.011429  \n",
       "LOS                      0.040120  0.330302           -0.011429  1.000000  "
      ]
     },
     "execution_count": 81,
     "metadata": {},
     "output_type": "execute_result"
    }
   ],
   "source": [
    "patients.apply(lambda x: x.factorize()[0]).corr()"
   ]
  },
  {
   "cell_type": "code",
   "execution_count": 47,
   "metadata": {
    "collapsed": false
   },
   "outputs": [
    {
     "name": "stderr",
     "output_type": "stream",
     "text": [
      "/Users/xu/anaconda/lib/python2.7/site-packages/sklearn/cross_validation.py:44: DeprecationWarning: This module was deprecated in version 0.18 in favor of the model_selection module into which all the refactored classes and functions are moved. Also note that the interface of the new CV iterators are different from that of this module. This module will be removed in 0.20.\n",
      "  \"This module will be removed in 0.20.\", DeprecationWarning)\n"
     ]
    }
   ],
   "source": [
    "import numpy as np\n",
    "from sklearn.ensemble import RandomForestClassifier\n",
    "from sklearn import preprocessing, cross_validation"
   ]
  },
  {
   "cell_type": "code",
   "execution_count": 49,
   "metadata": {
    "collapsed": false
   },
   "outputs": [
    {
     "name": "stdout",
     "output_type": "stream",
     "text": [
      "['SUBJECT_ID', 'HADM_ID_x', 'AGE', 'LOS']\n"
     ]
    }
   ],
   "source": [
    "target_col = 'DISCHARGE_LOCATION'\n",
    "data_types = patients.dtypes  \n",
    "cat_cols = list(data_types[data_types=='object'].index)\n",
    "num_cols = list(data_types[data_types=='int64'].index) + list(data_types[data_types=='float64'].index)\n",
    "id_col = ['SUBJECT_ID','HADM_ID_x']\n",
    "print num_cols"
   ]
  },
  {
   "cell_type": "code",
   "execution_count": 50,
   "metadata": {
    "collapsed": false
   },
   "outputs": [
    {
     "name": "stdout",
     "output_type": "stream",
     "text": [
      "{'tgt_col': 'DISCHARGE_LOCATION', 'num_cols': ['AGE'], 'ID_col': ['SUBJECT_ID', 'HADM_ID_x'], 'cat_cols': ['GENDER', 'ADMISSION_TYPE', 'INSURANCE', 'LANGUAGE', 'RELIGION', 'ICD9_CODE', 'FIRST_CAREUNIT', 'LAST_CAREUNIT']}\n"
     ]
    }
   ],
   "source": [
    "data_params = dict()\n",
    "data_params['cat_cols'] = cat_cols\n",
    "data_params['num_cols'] = num_cols\n",
    "data_params['num_cols'].remove('SUBJECT_ID')\n",
    "data_params['num_cols'].remove('HADM_ID_x')\n",
    "data_params['cat_cols'].remove('DOD')\n",
    "data_params['cat_cols'].remove('DISCHARGE_LOCATION')\n",
    "data_params['num_cols'].remove('LOS')\n",
    "data_params['tgt_col'] = target_col\n",
    "data_params['ID_col'] = id_col\n",
    "print data_params"
   ]
  },
  {
   "cell_type": "code",
   "execution_count": 51,
   "metadata": {
    "collapsed": true
   },
   "outputs": [],
   "source": [
    "patients = patients.fillna(0)"
   ]
  },
  {
   "cell_type": "code",
   "execution_count": 52,
   "metadata": {
    "collapsed": false
   },
   "outputs": [
    {
     "name": "stdout",
     "output_type": "stream",
     "text": [
      "Label encoding  GENDER\n",
      "Label encoding  ADMISSION_TYPE\n",
      "Label encoding  INSURANCE\n",
      "Label encoding  LANGUAGE\n",
      "Label encoding  RELIGION\n",
      "Label encoding  ICD9_CODE\n",
      "Label encoding  FIRST_CAREUNIT\n",
      "Label encoding  LAST_CAREUNIT\n"
     ]
    }
   ],
   "source": [
    "for col in data_params['cat_cols']:\n",
    "    print (\"Label encoding  %s\" % (col))\n",
    "    LBL = preprocessing.LabelEncoder()\n",
    "    LBL.fit(patients[col])\n",
    "    patients[col]=LBL.transform(patients[col])"
   ]
  },
  {
   "cell_type": "code",
   "execution_count": 53,
   "metadata": {
    "collapsed": false
   },
   "outputs": [
    {
     "data": {
      "text/plain": [
       "{'DEAD/EXPIRED': 0,\n",
       " 'HOME': 1,\n",
       " 'HOME HEALTH CARE': 2,\n",
       " 'LONG TERM CARE HOSPITAL': 3,\n",
       " 'REHAB/DISTINCT PART HOSP': 4,\n",
       " 'SNF': 5}"
      ]
     },
     "execution_count": 53,
     "metadata": {},
     "output_type": "execute_result"
    }
   ],
   "source": [
    "#Label target    \n",
    "LBL = preprocessing.LabelEncoder()\n",
    "LBL.fit(patients['DISCHARGE_LOCATION'])\n",
    "tgt_cls = dict(zip(patients['DISCHARGE_LOCATION'].unique()\n",
    "               , LBL.transform(patients['DISCHARGE_LOCATION'].unique())))\n",
    "tgt_cls"
   ]
  },
  {
   "cell_type": "code",
   "execution_count": 54,
   "metadata": {
    "collapsed": true
   },
   "outputs": [],
   "source": [
    "patients['DISCHARGE_LOCATION']=LBL.transform(patients['DISCHARGE_LOCATION'])"
   ]
  },
  {
   "cell_type": "code",
   "execution_count": 55,
   "metadata": {
    "collapsed": true
   },
   "outputs": [],
   "source": [
    "train, validation = cross_validation.train_test_split(patients, test_size = 0.4, random_state= 0)\n",
    "validation,test = cross_validation.train_test_split(validation, test_size = 0.5, random_state= 0)"
   ]
  },
  {
   "cell_type": "code",
   "execution_count": 56,
   "metadata": {
    "collapsed": true
   },
   "outputs": [],
   "source": [
    "simple_model = RandomForestClassifier(n_estimators=1000, criterion='entropy',\n",
    "                                max_features=0.5, max_depth=20,\n",
    "                                oob_score=True)\n",
    "full_cols = data_params['cat_cols'] + data_params['num_cols']\n",
    "train_X = train[full_cols].values\n",
    "train_y = train[data_params['tgt_col']].values\n",
    "simple_model = simple_model.fit(train_X,train_y)"
   ]
  },
  {
   "cell_type": "code",
   "execution_count": 57,
   "metadata": {
    "collapsed": false
   },
   "outputs": [
    {
     "data": {
      "text/plain": [
       "0.55111111111111111"
      ]
     },
     "execution_count": 57,
     "metadata": {},
     "output_type": "execute_result"
    }
   ],
   "source": [
    "validation_X = validation[full_cols].values\n",
    "validation_y = validation[data_params['tgt_col']].values\n",
    "cv = simple_model.score(validation_X, validation_y)\n",
    "cv"
   ]
  },
  {
   "cell_type": "code",
   "execution_count": 58,
   "metadata": {
    "collapsed": false
   },
   "outputs": [
    {
     "data": {
      "text/plain": [
       "0.5755555555555556"
      ]
     },
     "execution_count": 58,
     "metadata": {},
     "output_type": "execute_result"
    }
   ],
   "source": [
    "test_X = test[full_cols].values\n",
    "test_y = test[data_params['tgt_col']].values\n",
    "cv = simple_model.score(test_X, test_y )\n",
    "cv"
   ]
  },
  {
   "cell_type": "code",
   "execution_count": 59,
   "metadata": {
    "collapsed": true
   },
   "outputs": [],
   "source": [
    "drug = pd.read_csv(\"DRGCODES.csv\")"
   ]
  },
  {
   "cell_type": "code",
   "execution_count": 60,
   "metadata": {
    "collapsed": false
   },
   "outputs": [
    {
     "data": {
      "text/html": [
       "<div>\n",
       "<table border=\"1\" class=\"dataframe\">\n",
       "  <thead>\n",
       "    <tr style=\"text-align: right;\">\n",
       "      <th></th>\n",
       "      <th>ROW_ID</th>\n",
       "      <th>SUBJECT_ID</th>\n",
       "      <th>HADM_ID</th>\n",
       "      <th>DRG_TYPE</th>\n",
       "      <th>DRG_CODE</th>\n",
       "      <th>DESCRIPTION</th>\n",
       "      <th>DRG_SEVERITY</th>\n",
       "      <th>DRG_MORTALITY</th>\n",
       "    </tr>\n",
       "  </thead>\n",
       "  <tbody>\n",
       "    <tr>\n",
       "      <th>0</th>\n",
       "      <td>342</td>\n",
       "      <td>2491</td>\n",
       "      <td>144486</td>\n",
       "      <td>HCFA</td>\n",
       "      <td>28</td>\n",
       "      <td>TRAUMATIC STUPOR &amp; COMA, COMA &lt;1 HR AGE &gt;17 WI...</td>\n",
       "      <td>NaN</td>\n",
       "      <td>NaN</td>\n",
       "    </tr>\n",
       "    <tr>\n",
       "      <th>1</th>\n",
       "      <td>343</td>\n",
       "      <td>24958</td>\n",
       "      <td>162910</td>\n",
       "      <td>HCFA</td>\n",
       "      <td>110</td>\n",
       "      <td>MAJOR CARDIOVASCULAR PROCEDURES WITH COMPLICAT...</td>\n",
       "      <td>NaN</td>\n",
       "      <td>NaN</td>\n",
       "    </tr>\n",
       "    <tr>\n",
       "      <th>2</th>\n",
       "      <td>344</td>\n",
       "      <td>18325</td>\n",
       "      <td>153751</td>\n",
       "      <td>HCFA</td>\n",
       "      <td>390</td>\n",
       "      <td>NEONATE WITH OTHER SIGNIFICANT PROBLEMS</td>\n",
       "      <td>NaN</td>\n",
       "      <td>NaN</td>\n",
       "    </tr>\n",
       "    <tr>\n",
       "      <th>3</th>\n",
       "      <td>345</td>\n",
       "      <td>17887</td>\n",
       "      <td>182692</td>\n",
       "      <td>HCFA</td>\n",
       "      <td>14</td>\n",
       "      <td>SPECIFIC CEREBROVASCULAR DISORDERS EXCEPT TRAN...</td>\n",
       "      <td>NaN</td>\n",
       "      <td>NaN</td>\n",
       "    </tr>\n",
       "    <tr>\n",
       "      <th>4</th>\n",
       "      <td>346</td>\n",
       "      <td>11113</td>\n",
       "      <td>157980</td>\n",
       "      <td>HCFA</td>\n",
       "      <td>390</td>\n",
       "      <td>NEONATE WITH OTHER SIGNIFICANT PROBLEMS</td>\n",
       "      <td>NaN</td>\n",
       "      <td>NaN</td>\n",
       "    </tr>\n",
       "  </tbody>\n",
       "</table>\n",
       "</div>"
      ],
      "text/plain": [
       "   ROW_ID  SUBJECT_ID  HADM_ID DRG_TYPE  DRG_CODE  \\\n",
       "0     342        2491   144486     HCFA        28   \n",
       "1     343       24958   162910     HCFA       110   \n",
       "2     344       18325   153751     HCFA       390   \n",
       "3     345       17887   182692     HCFA        14   \n",
       "4     346       11113   157980     HCFA       390   \n",
       "\n",
       "                                         DESCRIPTION  DRG_SEVERITY  \\\n",
       "0  TRAUMATIC STUPOR & COMA, COMA <1 HR AGE >17 WI...           NaN   \n",
       "1  MAJOR CARDIOVASCULAR PROCEDURES WITH COMPLICAT...           NaN   \n",
       "2            NEONATE WITH OTHER SIGNIFICANT PROBLEMS           NaN   \n",
       "3  SPECIFIC CEREBROVASCULAR DISORDERS EXCEPT TRAN...           NaN   \n",
       "4            NEONATE WITH OTHER SIGNIFICANT PROBLEMS           NaN   \n",
       "\n",
       "   DRG_MORTALITY  \n",
       "0            NaN  \n",
       "1            NaN  \n",
       "2            NaN  \n",
       "3            NaN  \n",
       "4            NaN  "
      ]
     },
     "execution_count": 60,
     "metadata": {},
     "output_type": "execute_result"
    }
   ],
   "source": [
    "drug.head()"
   ]
  },
  {
   "cell_type": "code",
   "execution_count": 94,
   "metadata": {
    "collapsed": true
   },
   "outputs": [],
   "source": [
    "patientsID = patients[['SUBJECT_ID','HADM_ID_x']]\n",
    "patientsID.columns =['SUBJECT_ID','HADM_ID']"
   ]
  },
  {
   "cell_type": "code",
   "execution_count": 95,
   "metadata": {
    "collapsed": false
   },
   "outputs": [
    {
     "data": {
      "text/plain": [
       "(2248, 14)"
      ]
     },
     "execution_count": 95,
     "metadata": {},
     "output_type": "execute_result"
    }
   ],
   "source": [
    "patients.shape"
   ]
  },
  {
   "cell_type": "code",
   "execution_count": 96,
   "metadata": {
    "collapsed": true
   },
   "outputs": [],
   "source": [
    "stroke_drug = pd.merge(patientsID[['SUBJECT_ID','HADM_ID']], drug, on = ['SUBJECT_ID','HADM_ID'], how = 'inner')"
   ]
  },
  {
   "cell_type": "code",
   "execution_count": 97,
   "metadata": {
    "collapsed": false
   },
   "outputs": [
    {
     "data": {
      "text/plain": [
       "(5432, 8)"
      ]
     },
     "execution_count": 97,
     "metadata": {},
     "output_type": "execute_result"
    }
   ],
   "source": [
    "stroke_drug.shape"
   ]
  },
  {
   "cell_type": "code",
   "execution_count": 98,
   "metadata": {
    "collapsed": false
   },
   "outputs": [
    {
     "data": {
      "text/plain": [
       "APR     3176\n",
       "MS      1384\n",
       "HCFA     872\n",
       "Name: DRG_TYPE, dtype: int64"
      ]
     },
     "execution_count": 98,
     "metadata": {},
     "output_type": "execute_result"
    }
   ],
   "source": [
    "stroke_drug.DRG_TYPE.value_counts()"
   ]
  },
  {
   "cell_type": "code",
   "execution_count": 99,
   "metadata": {
    "collapsed": true
   },
   "outputs": [],
   "source": [
    "num_type=stroke_drug[['SUBJECT_ID','HADM_ID','DRG_TYPE']].groupby(['SUBJECT_ID','HADM_ID']).count().reset_index()"
   ]
  },
  {
   "cell_type": "code",
   "execution_count": 100,
   "metadata": {
    "collapsed": true
   },
   "outputs": [],
   "source": [
    "num_drug = stroke_drug[['SUBJECT_ID','HADM_ID','DRG_CODE']].groupby(['SUBJECT_ID','HADM_ID']).count().reset_index()"
   ]
  },
  {
   "cell_type": "code",
   "execution_count": 101,
   "metadata": {
    "collapsed": true
   },
   "outputs": [],
   "source": [
    "drugcode_type = pd.merge(num_type, num_drug,on = ['SUBJECT_ID','HADM_ID'], how = 'inner' )"
   ]
  },
  {
   "cell_type": "code",
   "execution_count": 105,
   "metadata": {
    "collapsed": true
   },
   "outputs": [],
   "source": [
    "drugcode_type.columns = ['SUBJECT_ID','HADM_ID_x','DRG_TYPE','DRG_CODE']"
   ]
  },
  {
   "cell_type": "code",
   "execution_count": 106,
   "metadata": {
    "collapsed": false
   },
   "outputs": [],
   "source": [
    "patients_2 = pd.merge(patients, drugcode_type,on = ['SUBJECT_ID','HADM_ID_x'], how = 'left')"
   ]
  },
  {
   "cell_type": "code",
   "execution_count": 70,
   "metadata": {
    "collapsed": true
   },
   "outputs": [],
   "source": [
    "patients_2 =patients_2.fillna(0)"
   ]
  },
  {
   "cell_type": "code",
   "execution_count": 71,
   "metadata": {
    "collapsed": true
   },
   "outputs": [],
   "source": [
    "train, validation = cross_validation.train_test_split(patients_2, test_size = 0.4, random_state= 0)\n",
    "validation,test = cross_validation.train_test_split(validation, test_size = 0.5, random_state= 0)"
   ]
  },
  {
   "cell_type": "code",
   "execution_count": 74,
   "metadata": {
    "collapsed": true
   },
   "outputs": [],
   "source": [
    "simple_model = RandomForestClassifier(n_estimators=1000, criterion='entropy',\n",
    "                                max_features=0.5, max_depth=20,\n",
    "                                oob_score=True)\n",
    "\n",
    "# bug fixed and accuracy increased!\n",
    "full_cols = data_params['cat_cols'] + data_params['num_cols'] + ['DRG_TYPE','DRG_CODE']\n",
    "\n",
    "train_X = train[full_cols].values\n",
    "train_y = train[data_params['tgt_col']].values\n",
    "simple_model = simple_model.fit(train_X,train_y)"
   ]
  },
  {
   "cell_type": "code",
   "execution_count": 75,
   "metadata": {
    "collapsed": false
   },
   "outputs": [
    {
     "name": "stdout",
     "output_type": "stream",
     "text": [
      "['GENDER', 'ADMISSION_TYPE', 'INSURANCE', 'LANGUAGE', 'RELIGION', 'ICD9_CODE', 'FIRST_CAREUNIT', 'LAST_CAREUNIT', 'AGE', 'DRG_TYPE', 'DRG_CODE']\n"
     ]
    }
   ],
   "source": [
    "print full_cols"
   ]
  },
  {
   "cell_type": "code",
   "execution_count": 76,
   "metadata": {
    "collapsed": false
   },
   "outputs": [
    {
     "data": {
      "text/plain": [
       "0.64666666666666661"
      ]
     },
     "execution_count": 76,
     "metadata": {},
     "output_type": "execute_result"
    }
   ],
   "source": [
    "validation_X = validation[full_cols].values\n",
    "validation_y = validation[data_params['tgt_col']].values\n",
    "cv = simple_model.score(validation_X, validation_y )\n",
    "cv"
   ]
  },
  {
   "cell_type": "code",
   "execution_count": 77,
   "metadata": {
    "collapsed": false
   },
   "outputs": [
    {
     "data": {
      "text/html": [
       "<div>\n",
       "<table border=\"1\" class=\"dataframe\">\n",
       "  <thead>\n",
       "    <tr style=\"text-align: right;\">\n",
       "      <th></th>\n",
       "      <th>ROW_ID</th>\n",
       "      <th>SUBJECT_ID</th>\n",
       "      <th>HADM_ID</th>\n",
       "      <th>CHARTDATE</th>\n",
       "      <th>CHARTTIME</th>\n",
       "      <th>SPEC_ITEMID</th>\n",
       "      <th>SPEC_TYPE_DESC</th>\n",
       "      <th>ORG_ITEMID</th>\n",
       "      <th>ORG_NAME</th>\n",
       "      <th>ISOLATE_NUM</th>\n",
       "      <th>AB_ITEMID</th>\n",
       "      <th>AB_NAME</th>\n",
       "      <th>DILUTION_TEXT</th>\n",
       "      <th>DILUTION_COMPARISON</th>\n",
       "      <th>DILUTION_VALUE</th>\n",
       "      <th>INTERPRETATION</th>\n",
       "    </tr>\n",
       "  </thead>\n",
       "  <tbody>\n",
       "    <tr>\n",
       "      <th>0</th>\n",
       "      <td>744</td>\n",
       "      <td>96</td>\n",
       "      <td>170324</td>\n",
       "      <td>2156-04-13 00:00:00</td>\n",
       "      <td>2156-04-13 14:18:00</td>\n",
       "      <td>70021.0</td>\n",
       "      <td>BRONCHOALVEOLAR LAVAGE</td>\n",
       "      <td>80026.0</td>\n",
       "      <td>PSEUDOMONAS AERUGINOSA</td>\n",
       "      <td>1.0</td>\n",
       "      <td>NaN</td>\n",
       "      <td>NaN</td>\n",
       "      <td>NaN</td>\n",
       "      <td>NaN</td>\n",
       "      <td>NaN</td>\n",
       "      <td>NaN</td>\n",
       "    </tr>\n",
       "    <tr>\n",
       "      <th>1</th>\n",
       "      <td>745</td>\n",
       "      <td>96</td>\n",
       "      <td>170324</td>\n",
       "      <td>2156-04-20 00:00:00</td>\n",
       "      <td>2156-04-20 13:10:00</td>\n",
       "      <td>70062.0</td>\n",
       "      <td>SPUTUM</td>\n",
       "      <td>NaN</td>\n",
       "      <td>NaN</td>\n",
       "      <td>NaN</td>\n",
       "      <td>NaN</td>\n",
       "      <td>NaN</td>\n",
       "      <td>NaN</td>\n",
       "      <td>NaN</td>\n",
       "      <td>NaN</td>\n",
       "      <td>NaN</td>\n",
       "    </tr>\n",
       "    <tr>\n",
       "      <th>2</th>\n",
       "      <td>746</td>\n",
       "      <td>96</td>\n",
       "      <td>170324</td>\n",
       "      <td>2156-04-20 00:00:00</td>\n",
       "      <td>2156-04-20 16:00:00</td>\n",
       "      <td>70012.0</td>\n",
       "      <td>BLOOD CULTURE</td>\n",
       "      <td>NaN</td>\n",
       "      <td>NaN</td>\n",
       "      <td>NaN</td>\n",
       "      <td>NaN</td>\n",
       "      <td>NaN</td>\n",
       "      <td>NaN</td>\n",
       "      <td>NaN</td>\n",
       "      <td>NaN</td>\n",
       "      <td>NaN</td>\n",
       "    </tr>\n",
       "    <tr>\n",
       "      <th>3</th>\n",
       "      <td>747</td>\n",
       "      <td>96</td>\n",
       "      <td>170324</td>\n",
       "      <td>2156-04-20 00:00:00</td>\n",
       "      <td>NaN</td>\n",
       "      <td>70012.0</td>\n",
       "      <td>BLOOD CULTURE</td>\n",
       "      <td>NaN</td>\n",
       "      <td>NaN</td>\n",
       "      <td>NaN</td>\n",
       "      <td>NaN</td>\n",
       "      <td>NaN</td>\n",
       "      <td>NaN</td>\n",
       "      <td>NaN</td>\n",
       "      <td>NaN</td>\n",
       "      <td>NaN</td>\n",
       "    </tr>\n",
       "    <tr>\n",
       "      <th>4</th>\n",
       "      <td>748</td>\n",
       "      <td>96</td>\n",
       "      <td>170324</td>\n",
       "      <td>2156-04-20 00:00:00</td>\n",
       "      <td>NaN</td>\n",
       "      <td>70079.0</td>\n",
       "      <td>URINE</td>\n",
       "      <td>NaN</td>\n",
       "      <td>NaN</td>\n",
       "      <td>NaN</td>\n",
       "      <td>NaN</td>\n",
       "      <td>NaN</td>\n",
       "      <td>NaN</td>\n",
       "      <td>NaN</td>\n",
       "      <td>NaN</td>\n",
       "      <td>NaN</td>\n",
       "    </tr>\n",
       "  </tbody>\n",
       "</table>\n",
       "</div>"
      ],
      "text/plain": [
       "   ROW_ID  SUBJECT_ID  HADM_ID            CHARTDATE            CHARTTIME  \\\n",
       "0     744          96   170324  2156-04-13 00:00:00  2156-04-13 14:18:00   \n",
       "1     745          96   170324  2156-04-20 00:00:00  2156-04-20 13:10:00   \n",
       "2     746          96   170324  2156-04-20 00:00:00  2156-04-20 16:00:00   \n",
       "3     747          96   170324  2156-04-20 00:00:00                  NaN   \n",
       "4     748          96   170324  2156-04-20 00:00:00                  NaN   \n",
       "\n",
       "   SPEC_ITEMID          SPEC_TYPE_DESC  ORG_ITEMID                ORG_NAME  \\\n",
       "0      70021.0  BRONCHOALVEOLAR LAVAGE     80026.0  PSEUDOMONAS AERUGINOSA   \n",
       "1      70062.0                  SPUTUM         NaN                     NaN   \n",
       "2      70012.0           BLOOD CULTURE         NaN                     NaN   \n",
       "3      70012.0           BLOOD CULTURE         NaN                     NaN   \n",
       "4      70079.0                   URINE         NaN                     NaN   \n",
       "\n",
       "   ISOLATE_NUM  AB_ITEMID AB_NAME DILUTION_TEXT DILUTION_COMPARISON  \\\n",
       "0          1.0        NaN     NaN           NaN                 NaN   \n",
       "1          NaN        NaN     NaN           NaN                 NaN   \n",
       "2          NaN        NaN     NaN           NaN                 NaN   \n",
       "3          NaN        NaN     NaN           NaN                 NaN   \n",
       "4          NaN        NaN     NaN           NaN                 NaN   \n",
       "\n",
       "   DILUTION_VALUE INTERPRETATION  \n",
       "0             NaN            NaN  \n",
       "1             NaN            NaN  \n",
       "2             NaN            NaN  \n",
       "3             NaN            NaN  \n",
       "4             NaN            NaN  "
      ]
     },
     "execution_count": 77,
     "metadata": {},
     "output_type": "execute_result"
    }
   ],
   "source": [
    "micro = pd.read_csv(\"MICROBIOLOGYEVENTS.csv\")\n",
    "micro.head()"
   ]
  },
  {
   "cell_type": "code",
   "execution_count": 78,
   "metadata": {
    "collapsed": true
   },
   "outputs": [],
   "source": [
    "stroke_micro = pd.merge(patientsID[['SUBJECT_ID','HADM_ID']], micro, on = ['SUBJECT_ID','HADM_ID'], how = 'inner')"
   ]
  },
  {
   "cell_type": "code",
   "execution_count": 79,
   "metadata": {
    "collapsed": false
   },
   "outputs": [
    {
     "data": {
      "text/plain": [
       "(52122, 16)"
      ]
     },
     "execution_count": 79,
     "metadata": {},
     "output_type": "execute_result"
    }
   ],
   "source": [
    "stroke_micro.shape"
   ]
  },
  {
   "cell_type": "code",
   "execution_count": 83,
   "metadata": {
    "collapsed": false
   },
   "outputs": [
    {
     "data": {
      "text/plain": [
       "1.0    25336\n",
       "2.0     2081\n",
       "3.0      186\n",
       "4.0       70\n",
       "Name: ISOLATE_NUM, dtype: int64"
      ]
     },
     "execution_count": 83,
     "metadata": {},
     "output_type": "execute_result"
    }
   ],
   "source": [
    "stroke_micro.ISOLATE_NUM.value_counts()"
   ]
  },
  {
   "cell_type": "code",
   "execution_count": 86,
   "metadata": {
    "collapsed": false
   },
   "outputs": [],
   "source": [
    "org_type=stroke_micro[['SUBJECT_ID','HADM_ID','ORG_NAME']].groupby(['SUBJECT_ID','HADM_ID']).count().reset_index()"
   ]
  },
  {
   "cell_type": "code",
   "execution_count": 87,
   "metadata": {
    "collapsed": true
   },
   "outputs": [],
   "source": [
    "num_type=stroke_micro[['SUBJECT_ID','HADM_ID','ISOLATE_NUM']].groupby(['SUBJECT_ID','HADM_ID']).count().reset_index()"
   ]
  },
  {
   "cell_type": "code",
   "execution_count": 88,
   "metadata": {
    "collapsed": false
   },
   "outputs": [],
   "source": [
    "micro_type = pd.merge(org_type, num_type,on = ['SUBJECT_ID','HADM_ID'], how = 'inner' )"
   ]
  },
  {
   "cell_type": "code",
   "execution_count": 113,
   "metadata": {
    "collapsed": true
   },
   "outputs": [],
   "source": [
    "micro_type.columns = ['SUBJECT_ID','HADM_ID_x','ORG_NAME','ISOLATE_NUM']"
   ]
  },
  {
   "cell_type": "code",
   "execution_count": 114,
   "metadata": {
    "collapsed": false
   },
   "outputs": [],
   "source": [
    "patients_3 = pd.merge(patients_2, micro_type,on = ['SUBJECT_ID','HADM_ID_x'], how = 'left')"
   ]
  },
  {
   "cell_type": "code",
   "execution_count": 115,
   "metadata": {
    "collapsed": true
   },
   "outputs": [],
   "source": [
    "patients_3 =patients_3.fillna(0)"
   ]
  },
  {
   "cell_type": "code",
   "execution_count": 118,
   "metadata": {
    "collapsed": true
   },
   "outputs": [],
   "source": [
    "train, validation = cross_validation.train_test_split(patients_3, test_size = 0.4, random_state= 0)\n",
    "validation,test = cross_validation.train_test_split(validation, test_size = 0.5, random_state= 0)"
   ]
  },
  {
   "cell_type": "code",
   "execution_count": 119,
   "metadata": {
    "collapsed": false
   },
   "outputs": [],
   "source": [
    "simple_model = RandomForestClassifier(n_estimators=1000, criterion='entropy',\n",
    "                                max_features=0.5, max_depth=20,\n",
    "                                oob_score=True)\n",
    "\n",
    "full_cols = data_params['cat_cols'] + data_params['num_cols'] + ['ORG_NAME','ISOLATE_NUM'] \n",
    "\n",
    "train_X = train[full_cols].values\n",
    "train_y = train[data_params['tgt_col']].values\n",
    "simple_model = simple_model.fit(train_X,train_y)"
   ]
  },
  {
   "cell_type": "code",
   "execution_count": 120,
   "metadata": {
    "collapsed": false
   },
   "outputs": [
    {
     "data": {
      "text/plain": [
       "0.63777777777777778"
      ]
     },
     "execution_count": 120,
     "metadata": {},
     "output_type": "execute_result"
    }
   ],
   "source": [
    "validation_X = validation[full_cols].values\n",
    "validation_y = validation[data_params['tgt_col']].values\n",
    "cv = simple_model.score(validation_X, validation_y )\n",
    "cv"
   ]
  },
  {
   "cell_type": "code",
   "execution_count": 124,
   "metadata": {
    "collapsed": false
   },
   "outputs": [
    {
     "name": "stdout",
     "output_type": "stream",
     "text": [
      "Random Forest\n",
      "Training Accuracy: 0.998\n",
      "Test Accuracy: 0.640\n"
     ]
    }
   ],
   "source": [
    "# from sklearn.linear_model import LogisticRegression\n",
    "clf=RandomForestClassifier(n_estimators=1000, criterion='entropy',\n",
    "                                max_features=0.5, max_depth=20,\n",
    "                                oob_score=True)\n",
    "X_train = train_X\n",
    "y_train = train_y\n",
    "X_test = validation_X\n",
    "y_test = validation_y\n",
    "clf.fit(X_train, y_train)\n",
    "score_train_clf = clf.score(X_train, y_train)\n",
    "score_test_clf = clf.score(X_test, y_test)\n",
    "print('Random Forest')\n",
    "print('Training Accuracy: %.3f' % clf.score(X_train, y_train))\n",
    "print('Test Accuracy: %.3f' % clf.score(X_test, y_test))"
   ]
  },
  {
   "cell_type": "code",
   "execution_count": 127,
   "metadata": {
    "collapsed": false
   },
   "outputs": [
    {
     "name": "stdout",
     "output_type": "stream",
     "text": [
      "['GENDER', 'ADMISSION_TYPE', 'INSURANCE', 'LANGUAGE', 'RELIGION', 'ICD9_CODE', 'FIRST_CAREUNIT', 'LAST_CAREUNIT', 'AGE', 'ORG_NAME', 'ISOLATE_NUM']\n",
      "[ 0.0530887   0.01857463  0.0525826   0.0743982   0.12564971  0.06548271\n",
      "  0.06276011  0.06714414  0.26509426  0.10751672  0.10770822]\n"
     ]
    }
   ],
   "source": [
    "feature_names = list(full_cols)\n",
    "print feature_names\n",
    "print clf.feature_importances_"
   ]
  },
  {
   "cell_type": "code",
   "execution_count": 131,
   "metadata": {
    "collapsed": false
   },
   "outputs": [
    {
     "data": {
      "image/png": "[encoded data removed]",
      "text/plain": [
       "<matplotlib.figure.Figure at 0x118e0ce90>"
      ]
     },
     "metadata": {},
     "output_type": "display_data"
    }
   ],
   "source": [
    "import matplotlib.pyplot as plt\n",
    "c_features = len(feature_names)\n",
    "plt.barh(range(c_features), clf.feature_importances_)\n",
    "plt.xlabel(\"Feature importance\")\n",
    "plt.ylabel(\"Feature name\")\n",
    "plt.yticks(np.arange(c_features), feature_names)\n",
    "plt.show()"
   ]
  },
  {
   "cell_type": "code",
   "execution_count": 136,
   "metadata": {
    "collapsed": false
   },
   "outputs": [
    {
     "name": "stderr",
     "output_type": "stream",
     "text": [
      "/anaconda/lib/python2.7/site-packages/IPython/core/interactiveshell.py:2717: DtypeWarning: Columns (4,5,7,11) have mixed types. Specify dtype option on import or set low_memory=False.\n",
      "  interactivity=interactivity, compiler=compiler, result=result)\n"
     ]
    }
   ],
   "source": [
    "cptevents = pd.read_csv(\"cptevents.csv\")"
   ]
  },
  {
   "cell_type": "code",
   "execution_count": null,
   "metadata": {
    "collapsed": true
   },
   "outputs": [],
   "source": []
  },
  {
   "cell_type": "code",
   "execution_count": 137,
   "metadata": {
    "collapsed": false
   },
   "outputs": [
    {
     "data": {
      "text/html": [
       "<div>\n",
       "<style>\n",
       "    .dataframe thead tr:only-child th {\n",
       "        text-align: right;\n",
       "    }\n",
       "\n",
       "    .dataframe thead th {\n",
       "        text-align: left;\n",
       "    }\n",
       "\n",
       "    .dataframe tbody tr th {\n",
       "        vertical-align: top;\n",
       "    }\n",
       "</style>\n",
       "<table border=\"1\" class=\"dataframe\">\n",
       "  <thead>\n",
       "    <tr style=\"text-align: right;\">\n",
       "      <th></th>\n",
       "      <th>ROW_ID</th>\n",
       "      <th>SUBJECT_ID</th>\n",
       "      <th>HADM_ID</th>\n",
       "      <th>COSTCENTER</th>\n",
       "      <th>CHARTDATE</th>\n",
       "      <th>CPT_CD</th>\n",
       "      <th>CPT_NUMBER</th>\n",
       "      <th>CPT_SUFFIX</th>\n",
       "      <th>TICKET_ID_SEQ</th>\n",
       "      <th>SECTIONHEADER</th>\n",
       "      <th>SUBSECTIONHEADER</th>\n",
       "      <th>DESCRIPTION</th>\n",
       "    </tr>\n",
       "  </thead>\n",
       "  <tbody>\n",
       "    <tr>\n",
       "      <th>0</th>\n",
       "      <td>317</td>\n",
       "      <td>11743</td>\n",
       "      <td>129545</td>\n",
       "      <td>ICU</td>\n",
       "      <td>NaN</td>\n",
       "      <td>99232</td>\n",
       "      <td>99232.0</td>\n",
       "      <td>NaN</td>\n",
       "      <td>6.0</td>\n",
       "      <td>Evaluation and management</td>\n",
       "      <td>Hospital inpatient services</td>\n",
       "      <td>NaN</td>\n",
       "    </tr>\n",
       "    <tr>\n",
       "      <th>1</th>\n",
       "      <td>318</td>\n",
       "      <td>11743</td>\n",
       "      <td>129545</td>\n",
       "      <td>ICU</td>\n",
       "      <td>NaN</td>\n",
       "      <td>99232</td>\n",
       "      <td>99232.0</td>\n",
       "      <td>NaN</td>\n",
       "      <td>7.0</td>\n",
       "      <td>Evaluation and management</td>\n",
       "      <td>Hospital inpatient services</td>\n",
       "      <td>NaN</td>\n",
       "    </tr>\n",
       "    <tr>\n",
       "      <th>2</th>\n",
       "      <td>319</td>\n",
       "      <td>11743</td>\n",
       "      <td>129545</td>\n",
       "      <td>ICU</td>\n",
       "      <td>NaN</td>\n",
       "      <td>99232</td>\n",
       "      <td>99232.0</td>\n",
       "      <td>NaN</td>\n",
       "      <td>8.0</td>\n",
       "      <td>Evaluation and management</td>\n",
       "      <td>Hospital inpatient services</td>\n",
       "      <td>NaN</td>\n",
       "    </tr>\n",
       "    <tr>\n",
       "      <th>3</th>\n",
       "      <td>320</td>\n",
       "      <td>11743</td>\n",
       "      <td>129545</td>\n",
       "      <td>ICU</td>\n",
       "      <td>NaN</td>\n",
       "      <td>99232</td>\n",
       "      <td>99232.0</td>\n",
       "      <td>NaN</td>\n",
       "      <td>9.0</td>\n",
       "      <td>Evaluation and management</td>\n",
       "      <td>Hospital inpatient services</td>\n",
       "      <td>NaN</td>\n",
       "    </tr>\n",
       "    <tr>\n",
       "      <th>4</th>\n",
       "      <td>321</td>\n",
       "      <td>6185</td>\n",
       "      <td>183725</td>\n",
       "      <td>ICU</td>\n",
       "      <td>NaN</td>\n",
       "      <td>99223</td>\n",
       "      <td>99223.0</td>\n",
       "      <td>NaN</td>\n",
       "      <td>1.0</td>\n",
       "      <td>Evaluation and management</td>\n",
       "      <td>Hospital inpatient services</td>\n",
       "      <td>NaN</td>\n",
       "    </tr>\n",
       "  </tbody>\n",
       "</table>\n",
       "</div>"
      ],
      "text/plain": [
       "   ROW_ID  SUBJECT_ID  HADM_ID COSTCENTER CHARTDATE CPT_CD  CPT_NUMBER  \\\n",
       "0     317       11743   129545        ICU       NaN  99232     99232.0   \n",
       "1     318       11743   129545        ICU       NaN  99232     99232.0   \n",
       "2     319       11743   129545        ICU       NaN  99232     99232.0   \n",
       "3     320       11743   129545        ICU       NaN  99232     99232.0   \n",
       "4     321        6185   183725        ICU       NaN  99223     99223.0   \n",
       "\n",
       "  CPT_SUFFIX  TICKET_ID_SEQ              SECTIONHEADER  \\\n",
       "0        NaN            6.0  Evaluation and management   \n",
       "1        NaN            7.0  Evaluation and management   \n",
       "2        NaN            8.0  Evaluation and management   \n",
       "3        NaN            9.0  Evaluation and management   \n",
       "4        NaN            1.0  Evaluation and management   \n",
       "\n",
       "              SUBSECTIONHEADER DESCRIPTION  \n",
       "0  Hospital inpatient services         NaN  \n",
       "1  Hospital inpatient services         NaN  \n",
       "2  Hospital inpatient services         NaN  \n",
       "3  Hospital inpatient services         NaN  \n",
       "4  Hospital inpatient services         NaN  "
      ]
     },
     "execution_count": 137,
     "metadata": {},
     "output_type": "execute_result"
    }
   ],
   "source": [
    "cptevents.head()"
   ]
  },
  {
   "cell_type": "code",
   "execution_count": null,
   "metadata": {
    "collapsed": true
   },
   "outputs": [],
   "source": []
  }
 ],
 "metadata": {
  "kernelspec": {
   "display_name": "Python 2",
   "language": "python",
   "name": "python2"
  },
  "language_info": {
   "codemirror_mode": {
    "name": "ipython",
    "version": 2
   },
   "file_extension": ".py",
   "mimetype": "text/x-python",
   "name": "python",
   "nbconvert_exporter": "python",
   "pygments_lexer": "ipython2",
   "version": "2.7.13"
  }
 },
 "nbformat": 4,
 "nbformat_minor": 2
}
